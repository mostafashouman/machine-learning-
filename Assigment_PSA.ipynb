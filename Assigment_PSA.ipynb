{
 "cells": [
  {
   "cell_type": "code",
   "execution_count": 1,
   "metadata": {
    "_cell_guid": "b1076dfc-b9ad-4769-8c92-a6c4dae69d19",
    "_uuid": "8f2839f25d086af736a60e9eeb907d3b93b6e0e5",
    "execution": {
     "iopub.execute_input": "2022-04-18T16:57:01.378229Z",
     "iopub.status.busy": "2022-04-18T16:57:01.377474Z",
     "iopub.status.idle": "2022-04-18T16:57:01.400321Z",
     "shell.execute_reply": "2022-04-18T16:57:01.399203Z"
    },
    "papermill": {
     "duration": 0.063818,
     "end_time": "2022-04-18T16:57:01.403219",
     "exception": false,
     "start_time": "2022-04-18T16:57:01.339401",
     "status": "completed"
    },
    "tags": []
   },
   "outputs": [],
   "source": [
    "# This Python 3 environment comes with many helpful analytics libraries installed\n",
    "# It is defined by the kaggle/python Docker image: https://github.com/kaggle/docker-python\n",
    "# For example, here's several helpful packages to load\n",
    "\n",
    "import numpy as np # linear algebra\n",
    "import pandas as pd # data processing, CSV file I/O (e.g. pd.read_csv)\n",
    "\n",
    "# Input data files are available in the read-only \"../input/\" directory\n",
    "# For example, running this (by clicking run or pressing Shift+Enter) will list all files under the input directory\n",
    "\n",
    "import os\n",
    "for dirname, _, filenames in os.walk('/kaggle/input'):\n",
    "    for filename in filenames:\n",
    "        print(os.path.join(dirname, filename))\n",
    "\n",
    "# You can write up to 20GB to the current directory (/kaggle/working/) that gets preserved as output when you create a version using \"Save & Run All\" \n",
    "# You can also write temporary files to /kaggle/temp/, but they won't be saved outside of the current session"
   ]
  },
  {
   "cell_type": "code",
   "execution_count": 2,
   "metadata": {
    "execution": {
     "iopub.execute_input": "2022-04-18T16:57:01.481167Z",
     "iopub.status.busy": "2022-04-18T16:57:01.480397Z",
     "iopub.status.idle": "2022-04-18T16:57:17.310609Z",
     "shell.execute_reply": "2022-04-18T16:57:17.309769Z"
    },
    "papermill": {
     "duration": 15.870494,
     "end_time": "2022-04-18T16:57:17.313014",
     "exception": false,
     "start_time": "2022-04-18T16:57:01.442520",
     "status": "completed"
    },
    "tags": []
   },
   "outputs": [
    {
     "data": {
      "text/html": [
       "<div>\n",
       "<style scoped>\n",
       "    .dataframe tbody tr th:only-of-type {\n",
       "        vertical-align: middle;\n",
       "    }\n",
       "\n",
       "    .dataframe tbody tr th {\n",
       "        vertical-align: top;\n",
       "    }\n",
       "\n",
       "    .dataframe thead th {\n",
       "        text-align: right;\n",
       "    }\n",
       "</style>\n",
       "<table border=\"1\" class=\"dataframe\">\n",
       "  <thead>\n",
       "    <tr style=\"text-align: right;\">\n",
       "      <th></th>\n",
       "      <th>step</th>\n",
       "      <th>type</th>\n",
       "      <th>amount</th>\n",
       "      <th>nameOrig</th>\n",
       "      <th>oldbalanceOrg</th>\n",
       "      <th>newbalanceOrig</th>\n",
       "      <th>nameDest</th>\n",
       "      <th>oldbalanceDest</th>\n",
       "      <th>newbalanceDest</th>\n",
       "      <th>isFraud</th>\n",
       "      <th>isFlaggedFraud</th>\n",
       "    </tr>\n",
       "  </thead>\n",
       "  <tbody>\n",
       "    <tr>\n",
       "      <th>0</th>\n",
       "      <td>1</td>\n",
       "      <td>PAYMENT</td>\n",
       "      <td>9839.64</td>\n",
       "      <td>C1231006815</td>\n",
       "      <td>170136.00</td>\n",
       "      <td>160296.36</td>\n",
       "      <td>M1979787155</td>\n",
       "      <td>0.00</td>\n",
       "      <td>0.00</td>\n",
       "      <td>0</td>\n",
       "      <td>0</td>\n",
       "    </tr>\n",
       "    <tr>\n",
       "      <th>1</th>\n",
       "      <td>1</td>\n",
       "      <td>PAYMENT</td>\n",
       "      <td>1864.28</td>\n",
       "      <td>C1666544295</td>\n",
       "      <td>21249.00</td>\n",
       "      <td>19384.72</td>\n",
       "      <td>M2044282225</td>\n",
       "      <td>0.00</td>\n",
       "      <td>0.00</td>\n",
       "      <td>0</td>\n",
       "      <td>0</td>\n",
       "    </tr>\n",
       "    <tr>\n",
       "      <th>2</th>\n",
       "      <td>1</td>\n",
       "      <td>TRANSFER</td>\n",
       "      <td>181.00</td>\n",
       "      <td>C1305486145</td>\n",
       "      <td>181.00</td>\n",
       "      <td>0.00</td>\n",
       "      <td>C553264065</td>\n",
       "      <td>0.00</td>\n",
       "      <td>0.00</td>\n",
       "      <td>1</td>\n",
       "      <td>0</td>\n",
       "    </tr>\n",
       "    <tr>\n",
       "      <th>3</th>\n",
       "      <td>1</td>\n",
       "      <td>CASH_OUT</td>\n",
       "      <td>181.00</td>\n",
       "      <td>C840083671</td>\n",
       "      <td>181.00</td>\n",
       "      <td>0.00</td>\n",
       "      <td>C38997010</td>\n",
       "      <td>21182.00</td>\n",
       "      <td>0.00</td>\n",
       "      <td>1</td>\n",
       "      <td>0</td>\n",
       "    </tr>\n",
       "    <tr>\n",
       "      <th>4</th>\n",
       "      <td>1</td>\n",
       "      <td>PAYMENT</td>\n",
       "      <td>11668.14</td>\n",
       "      <td>C2048537720</td>\n",
       "      <td>41554.00</td>\n",
       "      <td>29885.86</td>\n",
       "      <td>M1230701703</td>\n",
       "      <td>0.00</td>\n",
       "      <td>0.00</td>\n",
       "      <td>0</td>\n",
       "      <td>0</td>\n",
       "    </tr>\n",
       "    <tr>\n",
       "      <th>...</th>\n",
       "      <td>...</td>\n",
       "      <td>...</td>\n",
       "      <td>...</td>\n",
       "      <td>...</td>\n",
       "      <td>...</td>\n",
       "      <td>...</td>\n",
       "      <td>...</td>\n",
       "      <td>...</td>\n",
       "      <td>...</td>\n",
       "      <td>...</td>\n",
       "      <td>...</td>\n",
       "    </tr>\n",
       "    <tr>\n",
       "      <th>6362615</th>\n",
       "      <td>743</td>\n",
       "      <td>CASH_OUT</td>\n",
       "      <td>339682.13</td>\n",
       "      <td>C786484425</td>\n",
       "      <td>339682.13</td>\n",
       "      <td>0.00</td>\n",
       "      <td>C776919290</td>\n",
       "      <td>0.00</td>\n",
       "      <td>339682.13</td>\n",
       "      <td>1</td>\n",
       "      <td>0</td>\n",
       "    </tr>\n",
       "    <tr>\n",
       "      <th>6362616</th>\n",
       "      <td>743</td>\n",
       "      <td>TRANSFER</td>\n",
       "      <td>6311409.28</td>\n",
       "      <td>C1529008245</td>\n",
       "      <td>6311409.28</td>\n",
       "      <td>0.00</td>\n",
       "      <td>C1881841831</td>\n",
       "      <td>0.00</td>\n",
       "      <td>0.00</td>\n",
       "      <td>1</td>\n",
       "      <td>0</td>\n",
       "    </tr>\n",
       "    <tr>\n",
       "      <th>6362617</th>\n",
       "      <td>743</td>\n",
       "      <td>CASH_OUT</td>\n",
       "      <td>6311409.28</td>\n",
       "      <td>C1162922333</td>\n",
       "      <td>6311409.28</td>\n",
       "      <td>0.00</td>\n",
       "      <td>C1365125890</td>\n",
       "      <td>68488.84</td>\n",
       "      <td>6379898.11</td>\n",
       "      <td>1</td>\n",
       "      <td>0</td>\n",
       "    </tr>\n",
       "    <tr>\n",
       "      <th>6362618</th>\n",
       "      <td>743</td>\n",
       "      <td>TRANSFER</td>\n",
       "      <td>850002.52</td>\n",
       "      <td>C1685995037</td>\n",
       "      <td>850002.52</td>\n",
       "      <td>0.00</td>\n",
       "      <td>C2080388513</td>\n",
       "      <td>0.00</td>\n",
       "      <td>0.00</td>\n",
       "      <td>1</td>\n",
       "      <td>0</td>\n",
       "    </tr>\n",
       "    <tr>\n",
       "      <th>6362619</th>\n",
       "      <td>743</td>\n",
       "      <td>CASH_OUT</td>\n",
       "      <td>850002.52</td>\n",
       "      <td>C1280323807</td>\n",
       "      <td>850002.52</td>\n",
       "      <td>0.00</td>\n",
       "      <td>C873221189</td>\n",
       "      <td>6510099.11</td>\n",
       "      <td>7360101.63</td>\n",
       "      <td>1</td>\n",
       "      <td>0</td>\n",
       "    </tr>\n",
       "  </tbody>\n",
       "</table>\n",
       "<p>6362620 rows × 11 columns</p>\n",
       "</div>"
      ],
      "text/plain": [
       "         step      type      amount     nameOrig  oldbalanceOrg  \\\n",
       "0           1   PAYMENT     9839.64  C1231006815      170136.00   \n",
       "1           1   PAYMENT     1864.28  C1666544295       21249.00   \n",
       "2           1  TRANSFER      181.00  C1305486145         181.00   \n",
       "3           1  CASH_OUT      181.00   C840083671         181.00   \n",
       "4           1   PAYMENT    11668.14  C2048537720       41554.00   \n",
       "...       ...       ...         ...          ...            ...   \n",
       "6362615   743  CASH_OUT   339682.13   C786484425      339682.13   \n",
       "6362616   743  TRANSFER  6311409.28  C1529008245     6311409.28   \n",
       "6362617   743  CASH_OUT  6311409.28  C1162922333     6311409.28   \n",
       "6362618   743  TRANSFER   850002.52  C1685995037      850002.52   \n",
       "6362619   743  CASH_OUT   850002.52  C1280323807      850002.52   \n",
       "\n",
       "         newbalanceOrig     nameDest  oldbalanceDest  newbalanceDest  isFraud  \\\n",
       "0             160296.36  M1979787155            0.00            0.00        0   \n",
       "1              19384.72  M2044282225            0.00            0.00        0   \n",
       "2                  0.00   C553264065            0.00            0.00        1   \n",
       "3                  0.00    C38997010        21182.00            0.00        1   \n",
       "4              29885.86  M1230701703            0.00            0.00        0   \n",
       "...                 ...          ...             ...             ...      ...   \n",
       "6362615            0.00   C776919290            0.00       339682.13        1   \n",
       "6362616            0.00  C1881841831            0.00            0.00        1   \n",
       "6362617            0.00  C1365125890        68488.84      6379898.11        1   \n",
       "6362618            0.00  C2080388513            0.00            0.00        1   \n",
       "6362619            0.00   C873221189      6510099.11      7360101.63        1   \n",
       "\n",
       "         isFlaggedFraud  \n",
       "0                     0  \n",
       "1                     0  \n",
       "2                     0  \n",
       "3                     0  \n",
       "4                     0  \n",
       "...                 ...  \n",
       "6362615               0  \n",
       "6362616               0  \n",
       "6362617               0  \n",
       "6362618               0  \n",
       "6362619               0  \n",
       "\n",
       "[6362620 rows x 11 columns]"
      ]
     },
     "execution_count": 2,
     "metadata": {},
     "output_type": "execute_result"
    }
   ],
   "source": [
    "df=pd.read_csv(\"C:/Users/Karim/Desktop/Machine_Laerning_project/online_payment_fraud/PS_20174392719_1491204439457_log.csv\")\n",
    "df"
   ]
  },
  {
   "cell_type": "code",
   "execution_count": 3,
   "metadata": {
    "execution": {
     "iopub.execute_input": "2022-04-18T16:57:17.457861Z",
     "iopub.status.busy": "2022-04-18T16:57:17.457097Z",
     "iopub.status.idle": "2022-04-18T16:57:17.477989Z",
     "shell.execute_reply": "2022-04-18T16:57:17.476965Z"
    },
    "papermill": {
     "duration": 0.059997,
     "end_time": "2022-04-18T16:57:17.480681",
     "exception": false,
     "start_time": "2022-04-18T16:57:17.420684",
     "status": "completed"
    },
    "tags": []
   },
   "outputs": [
    {
     "name": "stdout",
     "output_type": "stream",
     "text": [
      "<class 'pandas.core.frame.DataFrame'>\n",
      "RangeIndex: 6362620 entries, 0 to 6362619\n",
      "Data columns (total 11 columns):\n",
      " #   Column          Dtype  \n",
      "---  ------          -----  \n",
      " 0   step            int64  \n",
      " 1   type            object \n",
      " 2   amount          float64\n",
      " 3   nameOrig        object \n",
      " 4   oldbalanceOrg   float64\n",
      " 5   newbalanceOrig  float64\n",
      " 6   nameDest        object \n",
      " 7   oldbalanceDest  float64\n",
      " 8   newbalanceDest  float64\n",
      " 9   isFraud         int64  \n",
      " 10  isFlaggedFraud  int64  \n",
      "dtypes: float64(5), int64(3), object(3)\n",
      "memory usage: 534.0+ MB\n"
     ]
    }
   ],
   "source": [
    "df.info()\n",
    "# df['type'].value_counts()\n",
    "# df.isna().sum()\n",
    "# df['step'].describe()\n",
    "# df['balance_dest_diff'].describe()\n",
    "# df['isFlaggedFraud'].value_counts()"
   ]
  },
  {
   "cell_type": "markdown",
   "metadata": {
    "papermill": {
     "duration": 0.034624,
     "end_time": "2022-04-18T16:57:18.682908",
     "exception": false,
     "start_time": "2022-04-18T16:57:18.648284",
     "status": "completed"
    },
    "tags": []
   },
   "source": [
    "### What is the most type of transaction caused fraud?"
   ]
  },
  {
   "cell_type": "code",
   "execution_count": 7,
   "metadata": {
    "execution": {
     "iopub.execute_input": "2022-04-18T16:57:18.754911Z",
     "iopub.status.busy": "2022-04-18T16:57:18.754211Z",
     "iopub.status.idle": "2022-04-18T16:57:19.494558Z",
     "shell.execute_reply": "2022-04-18T16:57:19.493775Z"
    },
    "papermill": {
     "duration": 0.778559,
     "end_time": "2022-04-18T16:57:19.496593",
     "exception": false,
     "start_time": "2022-04-18T16:57:18.718034",
     "status": "completed"
    },
    "tags": []
   },
   "outputs": [
    {
     "data": {
      "text/plain": [
       "<AxesSubplot:xlabel='type', ylabel='isFraud'>"
      ]
     },
     "execution_count": 7,
     "metadata": {},
     "output_type": "execute_result"
    },
    {
     "data": {
      "image/png": "[encoded data removed]",
      "text/plain": [
       "<Figure size 432x288 with 1 Axes>"
      ]
     },
     "metadata": {
      "needs_background": "light"
     },
     "output_type": "display_data"
    }
   ],
   "source": [
    "import seaborn as sns\n",
    "t=pd.DataFrame(df.groupby(by=df['type'])['isFraud'].sum())\n",
    "sns.barplot(data=t,x=t.index, y='isFraud')"
   ]
  },
  {
   "cell_type": "markdown",
   "metadata": {
    "papermill": {
     "duration": 0.035565,
     "end_time": "2022-04-18T16:57:19.569026",
     "exception": false,
     "start_time": "2022-04-18T16:57:19.533461",
     "status": "completed"
    },
    "tags": []
   },
   "source": [
    "### Top 20 step number that fraud occured"
   ]
  },
  {
   "cell_type": "code",
   "execution_count": 9,
   "metadata": {
    "execution": {
     "iopub.execute_input": "2022-04-18T16:57:19.643891Z",
     "iopub.status.busy": "2022-04-18T16:57:19.643379Z",
     "iopub.status.idle": "2022-04-18T16:57:20.136570Z",
     "shell.execute_reply": "2022-04-18T16:57:20.135789Z"
    },
    "papermill": {
     "duration": 0.532773,
     "end_time": "2022-04-18T16:57:20.138697",
     "exception": false,
     "start_time": "2022-04-18T16:57:19.605924",
     "status": "completed"
    },
    "tags": []
   },
   "outputs": [
    {
     "data": {
      "text/plain": [
       "Text(0, 0.5, 'Fraud count by step')"
      ]
     },
     "execution_count": 9,
     "metadata": {},
     "output_type": "execute_result"
    },
    {
     "data": {
      "image/png": "[encoded data removed]",
      "text/plain": [
       "<Figure size 1440x360 with 1 Axes>"
      ]
     },
     "metadata": {
      "needs_background": "light"
     },
     "output_type": "display_data"
    }
   ],
   "source": [
    "import matplotlib.pyplot as plt \n",
    "t=pd.DataFrame(df.groupby(by=df['step'])['isFraud'].sum())\n",
    "t2=t.sort_values(by='isFraud', ascending=False).head(20)\n",
    "t2 = t2.rename_axis('step').reset_index()\n",
    "plt.figure(figsize=(20,5))\n",
    "sns.barplot(data=t2,x='step', y='isFraud',)\n",
    "plt.ylabel('Fraud count by step')"
   ]
  },
  {
   "cell_type": "markdown",
   "metadata": {
    "papermill": {
     "duration": 0.037573,
     "end_time": "2022-04-18T16:57:20.213915",
     "exception": false,
     "start_time": "2022-04-18T16:57:20.176342",
     "status": "completed"
    },
    "tags": []
   },
   "source": [
    "### Top 10 richest customer who had biggest loss from fraud"
   ]
  },
  {
   "cell_type": "code",
   "execution_count": 10,
   "metadata": {
    "execution": {
     "iopub.execute_input": "2022-04-18T16:57:20.291320Z",
     "iopub.status.busy": "2022-04-18T16:57:20.290888Z",
     "iopub.status.idle": "2022-04-18T16:57:20.321584Z",
     "shell.execute_reply": "2022-04-18T16:57:20.321014Z"
    },
    "papermill": {
     "duration": 0.071738,
     "end_time": "2022-04-18T16:57:20.323540",
     "exception": false,
     "start_time": "2022-04-18T16:57:20.251802",
     "status": "completed"
    },
    "tags": []
   },
   "outputs": [],
   "source": [
    "t=df.loc[df['isFraud']==1,['nameOrig','oldbalanceOrg','newbalanceOrig']]"
   ]
  },
  {
   "cell_type": "code",
   "execution_count": 11,
   "metadata": {
    "execution": {
     "iopub.execute_input": "2022-04-18T16:57:20.400690Z",
     "iopub.status.busy": "2022-04-18T16:57:20.400306Z",
     "iopub.status.idle": "2022-04-18T16:57:20.420177Z",
     "shell.execute_reply": "2022-04-18T16:57:20.419446Z"
    },
    "papermill": {
     "duration": 0.060771,
     "end_time": "2022-04-18T16:57:20.422125",
     "exception": false,
     "start_time": "2022-04-18T16:57:20.361354",
     "status": "completed"
    },
    "tags": []
   },
   "outputs": [
    {
     "data": {
      "text/html": [
       "<div>\n",
       "<style scoped>\n",
       "    .dataframe tbody tr th:only-of-type {\n",
       "        vertical-align: middle;\n",
       "    }\n",
       "\n",
       "    .dataframe tbody tr th {\n",
       "        vertical-align: top;\n",
       "    }\n",
       "\n",
       "    .dataframe thead th {\n",
       "        text-align: right;\n",
       "    }\n",
       "</style>\n",
       "<table border=\"1\" class=\"dataframe\">\n",
       "  <thead>\n",
       "    <tr style=\"text-align: right;\">\n",
       "      <th></th>\n",
       "      <th>nameOrig</th>\n",
       "      <th>oldbalanceOrg</th>\n",
       "      <th>newbalanceOrig</th>\n",
       "      <th>loss_from_fraud</th>\n",
       "    </tr>\n",
       "  </thead>\n",
       "  <tbody>\n",
       "    <tr>\n",
       "      <th>6266405</th>\n",
       "      <td>C794290057</td>\n",
       "      <td>42542664.27</td>\n",
       "      <td>32542664.27</td>\n",
       "      <td>10000000.0</td>\n",
       "    </tr>\n",
       "    <tr>\n",
       "      <th>6357390</th>\n",
       "      <td>C671111468</td>\n",
       "      <td>37418265.31</td>\n",
       "      <td>27418265.31</td>\n",
       "      <td>10000000.0</td>\n",
       "    </tr>\n",
       "    <tr>\n",
       "      <th>5563707</th>\n",
       "      <td>C1421664654</td>\n",
       "      <td>34892193.09</td>\n",
       "      <td>24892193.09</td>\n",
       "      <td>10000000.0</td>\n",
       "    </tr>\n",
       "    <tr>\n",
       "      <th>6010857</th>\n",
       "      <td>C1295280435</td>\n",
       "      <td>23752520.60</td>\n",
       "      <td>13752520.60</td>\n",
       "      <td>10000000.0</td>\n",
       "    </tr>\n",
       "    <tr>\n",
       "      <th>6168495</th>\n",
       "      <td>C292642955</td>\n",
       "      <td>23576297.10</td>\n",
       "      <td>13576297.10</td>\n",
       "      <td>10000000.0</td>\n",
       "    </tr>\n",
       "    <tr>\n",
       "      <th>6074073</th>\n",
       "      <td>C315155195</td>\n",
       "      <td>22625132.51</td>\n",
       "      <td>12625132.51</td>\n",
       "      <td>10000000.0</td>\n",
       "    </tr>\n",
       "    <tr>\n",
       "      <th>6014709</th>\n",
       "      <td>C524119157</td>\n",
       "      <td>19228514.10</td>\n",
       "      <td>9228514.10</td>\n",
       "      <td>10000000.0</td>\n",
       "    </tr>\n",
       "    <tr>\n",
       "      <th>5563723</th>\n",
       "      <td>C1074619527</td>\n",
       "      <td>19110884.44</td>\n",
       "      <td>9110884.44</td>\n",
       "      <td>10000000.0</td>\n",
       "    </tr>\n",
       "    <tr>\n",
       "      <th>5996399</th>\n",
       "      <td>C40489106</td>\n",
       "      <td>59585040.37</td>\n",
       "      <td>49585040.37</td>\n",
       "      <td>10000000.0</td>\n",
       "    </tr>\n",
       "    <tr>\n",
       "      <th>6362452</th>\n",
       "      <td>C726730575</td>\n",
       "      <td>57316255.05</td>\n",
       "      <td>47316255.05</td>\n",
       "      <td>10000000.0</td>\n",
       "    </tr>\n",
       "  </tbody>\n",
       "</table>\n",
       "</div>"
      ],
      "text/plain": [
       "            nameOrig  oldbalanceOrg  newbalanceOrig  loss_from_fraud\n",
       "6266405   C794290057    42542664.27     32542664.27       10000000.0\n",
       "6357390   C671111468    37418265.31     27418265.31       10000000.0\n",
       "5563707  C1421664654    34892193.09     24892193.09       10000000.0\n",
       "6010857  C1295280435    23752520.60     13752520.60       10000000.0\n",
       "6168495   C292642955    23576297.10     13576297.10       10000000.0\n",
       "6074073   C315155195    22625132.51     12625132.51       10000000.0\n",
       "6014709   C524119157    19228514.10      9228514.10       10000000.0\n",
       "5563723  C1074619527    19110884.44      9110884.44       10000000.0\n",
       "5996399    C40489106    59585040.37     49585040.37       10000000.0\n",
       "6362452   C726730575    57316255.05     47316255.05       10000000.0"
      ]
     },
     "execution_count": 11,
     "metadata": {},
     "output_type": "execute_result"
    }
   ],
   "source": [
    "t['loss_from_fraud']=t['oldbalanceOrg']-t['newbalanceOrig']\n",
    "t3=t.sort_values(by=['loss_from_fraud','oldbalanceOrg'],ascending=False)\n",
    "t3.head(10)"
   ]
  },
  {
   "cell_type": "code",
   "execution_count": 12,
   "metadata": {
    "execution": {
     "iopub.execute_input": "2022-04-18T16:57:20.500784Z",
     "iopub.status.busy": "2022-04-18T16:57:20.500515Z",
     "iopub.status.idle": "2022-04-18T16:57:20.510678Z",
     "shell.execute_reply": "2022-04-18T16:57:20.509868Z"
    },
    "papermill": {
     "duration": 0.05171,
     "end_time": "2022-04-18T16:57:20.512465",
     "exception": false,
     "start_time": "2022-04-18T16:57:20.460755",
     "status": "completed"
    },
    "tags": []
   },
   "outputs": [
    {
     "data": {
      "text/plain": [
       "10000000.00    262\n",
       "0.00            57\n",
       "10000000.00     12\n",
       "10000000.00      5\n",
       "1165187.89       4\n",
       "              ... \n",
       "79466.45         1\n",
       "75956.47         1\n",
       "4505.60          1\n",
       "4499.08          1\n",
       "994453.20        1\n",
       "Name: loss_from_fraud, Length: 3943, dtype: int64"
      ]
     },
     "execution_count": 12,
     "metadata": {},
     "output_type": "execute_result"
    }
   ],
   "source": [
    "# t3.info()\n",
    "t3['loss_from_fraud'].value_counts()"
   ]
  },
  {
   "cell_type": "markdown",
   "metadata": {
    "papermill": {
     "duration": 0.039137,
     "end_time": "2022-04-18T16:57:20.590585",
     "exception": false,
     "start_time": "2022-04-18T16:57:20.551448",
     "status": "completed"
    },
    "tags": []
   },
   "source": [
    "### Top 10 richest recipient who had biggest gain when fraud occured"
   ]
  },
  {
   "cell_type": "code",
   "execution_count": 13,
   "metadata": {
    "execution": {
     "iopub.execute_input": "2022-04-18T16:57:20.672842Z",
     "iopub.status.busy": "2022-04-18T16:57:20.672555Z",
     "iopub.status.idle": "2022-04-18T16:57:20.688357Z",
     "shell.execute_reply": "2022-04-18T16:57:20.687495Z"
    },
    "papermill": {
     "duration": 0.058761,
     "end_time": "2022-04-18T16:57:20.690244",
     "exception": false,
     "start_time": "2022-04-18T16:57:20.631483",
     "status": "completed"
    },
    "tags": []
   },
   "outputs": [],
   "source": [
    "t=df.loc[df['isFraud']==1,['nameDest', 'oldbalanceDest', 'newbalanceDest']]"
   ]
  },
  {
   "cell_type": "code",
   "execution_count": 14,
   "metadata": {
    "execution": {
     "iopub.execute_input": "2022-04-18T16:57:20.770282Z",
     "iopub.status.busy": "2022-04-18T16:57:20.770008Z",
     "iopub.status.idle": "2022-04-18T16:57:20.788121Z",
     "shell.execute_reply": "2022-04-18T16:57:20.787328Z"
    },
    "papermill": {
     "duration": 0.060215,
     "end_time": "2022-04-18T16:57:20.789871",
     "exception": false,
     "start_time": "2022-04-18T16:57:20.729656",
     "status": "completed"
    },
    "tags": []
   },
   "outputs": [
    {
     "data": {
      "text/html": [
       "<div>\n",
       "<style scoped>\n",
       "    .dataframe tbody tr th:only-of-type {\n",
       "        vertical-align: middle;\n",
       "    }\n",
       "\n",
       "    .dataframe tbody tr th {\n",
       "        vertical-align: top;\n",
       "    }\n",
       "\n",
       "    .dataframe thead th {\n",
       "        text-align: right;\n",
       "    }\n",
       "</style>\n",
       "<table border=\"1\" class=\"dataframe\">\n",
       "  <thead>\n",
       "    <tr style=\"text-align: right;\">\n",
       "      <th></th>\n",
       "      <th>nameDest</th>\n",
       "      <th>oldbalanceDest</th>\n",
       "      <th>newbalanceDest</th>\n",
       "      <th>gain_from_fraud</th>\n",
       "    </tr>\n",
       "  </thead>\n",
       "  <tbody>\n",
       "    <tr>\n",
       "      <th>4645693</th>\n",
       "      <td>C1741955070</td>\n",
       "      <td>258747.84</td>\n",
       "      <td>15173859.31</td>\n",
       "      <td>14915111.47</td>\n",
       "    </tr>\n",
       "    <tr>\n",
       "      <th>4525881</th>\n",
       "      <td>C562081008</td>\n",
       "      <td>1342360.08</td>\n",
       "      <td>14782044.54</td>\n",
       "      <td>13439684.46</td>\n",
       "    </tr>\n",
       "    <tr>\n",
       "      <th>6061826</th>\n",
       "      <td>C2059078386</td>\n",
       "      <td>11656587.57</td>\n",
       "      <td>21656587.57</td>\n",
       "      <td>10000000.00</td>\n",
       "    </tr>\n",
       "    <tr>\n",
       "      <th>6074074</th>\n",
       "      <td>C150091086</td>\n",
       "      <td>6070888.20</td>\n",
       "      <td>16070888.20</td>\n",
       "      <td>10000000.00</td>\n",
       "    </tr>\n",
       "    <tr>\n",
       "      <th>6205436</th>\n",
       "      <td>C427067936</td>\n",
       "      <td>5859505.54</td>\n",
       "      <td>15859505.54</td>\n",
       "      <td>10000000.00</td>\n",
       "    </tr>\n",
       "    <tr>\n",
       "      <th>6351220</th>\n",
       "      <td>C779798347</td>\n",
       "      <td>3485891.28</td>\n",
       "      <td>13485891.28</td>\n",
       "      <td>10000000.00</td>\n",
       "    </tr>\n",
       "    <tr>\n",
       "      <th>6362507</th>\n",
       "      <td>C635621973</td>\n",
       "      <td>2571402.25</td>\n",
       "      <td>12571402.25</td>\n",
       "      <td>10000000.00</td>\n",
       "    </tr>\n",
       "    <tr>\n",
       "      <th>6361722</th>\n",
       "      <td>C1023840891</td>\n",
       "      <td>2517892.18</td>\n",
       "      <td>12517892.18</td>\n",
       "      <td>10000000.00</td>\n",
       "    </tr>\n",
       "    <tr>\n",
       "      <th>5990225</th>\n",
       "      <td>C1786144514</td>\n",
       "      <td>2423749.18</td>\n",
       "      <td>12423749.18</td>\n",
       "      <td>10000000.00</td>\n",
       "    </tr>\n",
       "    <tr>\n",
       "      <th>5967443</th>\n",
       "      <td>C1012340770</td>\n",
       "      <td>2265793.36</td>\n",
       "      <td>12265793.36</td>\n",
       "      <td>10000000.00</td>\n",
       "    </tr>\n",
       "  </tbody>\n",
       "</table>\n",
       "</div>"
      ],
      "text/plain": [
       "            nameDest  oldbalanceDest  newbalanceDest  gain_from_fraud\n",
       "4645693  C1741955070       258747.84     15173859.31      14915111.47\n",
       "4525881   C562081008      1342360.08     14782044.54      13439684.46\n",
       "6061826  C2059078386     11656587.57     21656587.57      10000000.00\n",
       "6074074   C150091086      6070888.20     16070888.20      10000000.00\n",
       "6205436   C427067936      5859505.54     15859505.54      10000000.00\n",
       "6351220   C779798347      3485891.28     13485891.28      10000000.00\n",
       "6362507   C635621973      2571402.25     12571402.25      10000000.00\n",
       "6361722  C1023840891      2517892.18     12517892.18      10000000.00\n",
       "5990225  C1786144514      2423749.18     12423749.18      10000000.00\n",
       "5967443  C1012340770      2265793.36     12265793.36      10000000.00"
      ]
     },
     "execution_count": 14,
     "metadata": {},
     "output_type": "execute_result"
    }
   ],
   "source": [
    "t['gain_from_fraud']=t['newbalanceDest']-t['oldbalanceDest']\n",
    "t4=t.sort_values(by=['gain_from_fraud','newbalanceDest'],ascending=False)\n",
    "t4.head(10)"
   ]
  },
  {
   "cell_type": "markdown",
   "metadata": {
    "papermill": {
     "duration": 0.038878,
     "end_time": "2022-04-18T16:57:20.868822",
     "exception": false,
     "start_time": "2022-04-18T16:57:20.829944",
     "status": "completed"
    },
    "tags": []
   },
   "source": [
    "# Label categorical coulumns with label encoder"
   ]
  },
  {
   "cell_type": "code",
   "execution_count": 15,
   "metadata": {
    "execution": {
     "iopub.execute_input": "2022-04-18T16:57:20.950733Z",
     "iopub.status.busy": "2022-04-18T16:57:20.950476Z",
     "iopub.status.idle": "2022-04-18T16:57:21.488390Z",
     "shell.execute_reply": "2022-04-18T16:57:21.487555Z"
    },
    "papermill": {
     "duration": 0.582198,
     "end_time": "2022-04-18T16:57:21.490580",
     "exception": false,
     "start_time": "2022-04-18T16:57:20.908382",
     "status": "completed"
    },
    "tags": []
   },
   "outputs": [],
   "source": [
    "from sklearn.preprocessing import LabelEncoder\n",
    "\n",
    "contin_var = df.select_dtypes(include=['int64','float64'])\n",
    "temp = df.select_dtypes(include='object')\n",
    "cate_var = temp.drop(columns=['nameOrig','nameDest'], axis = 1)\n",
    "cols=cate_var.columns"
   ]
  },
  {
   "cell_type": "code",
   "execution_count": 16,
   "metadata": {
    "execution": {
     "iopub.execute_input": "2022-04-18T16:57:21.571229Z",
     "iopub.status.busy": "2022-04-18T16:57:21.570502Z",
     "iopub.status.idle": "2022-04-18T16:57:22.974782Z",
     "shell.execute_reply": "2022-04-18T16:57:22.973767Z"
    },
    "papermill": {
     "duration": 1.447029,
     "end_time": "2022-04-18T16:57:22.977102",
     "exception": false,
     "start_time": "2022-04-18T16:57:21.530073",
     "status": "completed"
    },
    "tags": []
   },
   "outputs": [],
   "source": [
    "lb = LabelEncoder()\n",
    "for col in cate_var[cols]:\n",
    "    cate_var[col] = lb.fit_transform(cate_var[col])"
   ]
  },
  {
   "cell_type": "code",
   "execution_count": 17,
   "metadata": {
    "execution": {
     "iopub.execute_input": "2022-04-18T16:57:23.058072Z",
     "iopub.status.busy": "2022-04-18T16:57:23.057760Z",
     "iopub.status.idle": "2022-04-18T16:57:23.239909Z",
     "shell.execute_reply": "2022-04-18T16:57:23.239013Z"
    },
    "papermill": {
     "duration": 0.22476,
     "end_time": "2022-04-18T16:57:23.241926",
     "exception": false,
     "start_time": "2022-04-18T16:57:23.017166",
     "status": "completed"
    },
    "tags": []
   },
   "outputs": [
    {
     "data": {
      "text/plain": [
       "Index(['step', 'amount', 'oldbalanceOrg', 'newbalanceOrig', 'oldbalanceDest',\n",
       "       'newbalanceDest', 'isFraud', 'isFlaggedFraud', 'type'],\n",
       "      dtype='object')"
      ]
     },
     "execution_count": 17,
     "metadata": {},
     "output_type": "execute_result"
    }
   ],
   "source": [
    "contin_var.reset_index(drop = True, inplace=True)\n",
    "cate_var.reset_index(drop = True, inplace=True)\n",
    "df_concat = pd.concat([contin_var,cate_var], axis = 1)\n",
    "df_concat.head()\n",
    "df_concat.columns"
   ]
  },
  {
   "cell_type": "markdown",
   "metadata": {
    "papermill": {
     "duration": 0.039353,
     "end_time": "2022-04-18T16:57:23.321614",
     "exception": false,
     "start_time": "2022-04-18T16:57:23.282261",
     "status": "completed"
    },
    "tags": []
   },
   "source": [
    "# Checking P-value and VIF"
   ]
  },
  {
   "cell_type": "code",
   "execution_count": 18,
   "metadata": {
    "execution": {
     "iopub.execute_input": "2022-04-18T16:57:23.402378Z",
     "iopub.status.busy": "2022-04-18T16:57:23.402084Z",
     "iopub.status.idle": "2022-04-18T16:57:30.545824Z",
     "shell.execute_reply": "2022-04-18T16:57:30.544917Z"
    },
    "papermill": {
     "duration": 7.187663,
     "end_time": "2022-04-18T16:57:30.548790",
     "exception": false,
     "start_time": "2022-04-18T16:57:23.361127",
     "status": "completed"
    },
    "tags": []
   },
   "outputs": [
    {
     "data": {
      "text/html": [
       "<table class=\"simpletable\">\n",
       "<caption>OLS Regression Results</caption>\n",
       "<tr>\n",
       "  <th>Dep. Variable:</th>         <td>isFraud</td>     <th>  R-squared (uncentered):</th>       <td>   0.163</td> \n",
       "</tr>\n",
       "<tr>\n",
       "  <th>Model:</th>                   <td>OLS</td>       <th>  Adj. R-squared (uncentered):</th>  <td>   0.163</td> \n",
       "</tr>\n",
       "<tr>\n",
       "  <th>Method:</th>             <td>Least Squares</td>  <th>  F-statistic:       </th>           <td>1.544e+05</td>\n",
       "</tr>\n",
       "<tr>\n",
       "  <th>Date:</th>             <td>Sun, 12 Jun 2022</td> <th>  Prob (F-statistic):</th>            <td>  0.00</td>  \n",
       "</tr>\n",
       "<tr>\n",
       "  <th>Time:</th>                 <td>21:31:38</td>     <th>  Log-Likelihood:    </th>          <td>1.2700e+07</td>\n",
       "</tr>\n",
       "<tr>\n",
       "  <th>No. Observations:</th>      <td>6362620</td>     <th>  AIC:               </th>          <td>-2.540e+07</td>\n",
       "</tr>\n",
       "<tr>\n",
       "  <th>Df Residuals:</th>          <td>6362612</td>     <th>  BIC:               </th>          <td>-2.540e+07</td>\n",
       "</tr>\n",
       "<tr>\n",
       "  <th>Df Model:</th>              <td>     8</td>      <th>                     </th>               <td> </td>    \n",
       "</tr>\n",
       "<tr>\n",
       "  <th>Covariance Type:</th>      <td>nonrobust</td>    <th>                     </th>               <td> </td>    \n",
       "</tr>\n",
       "</table>\n",
       "<table class=\"simpletable\">\n",
       "<tr>\n",
       "         <td></td>           <th>coef</th>     <th>std err</th>      <th>t</th>      <th>P>|t|</th>  <th>[0.025</th>    <th>0.975]</th>  \n",
       "</tr>\n",
       "<tr>\n",
       "  <th>step</th>           <td> 1.427e-05</td> <td> 6.91e-08</td> <td>  206.453</td> <td> 0.000</td> <td> 1.41e-05</td> <td> 1.44e-05</td>\n",
       "</tr>\n",
       "<tr>\n",
       "  <th>amount</th>         <td> 1.355e-08</td> <td> 4.15e-11</td> <td>  326.943</td> <td> 0.000</td> <td> 1.35e-08</td> <td> 1.36e-08</td>\n",
       "</tr>\n",
       "<tr>\n",
       "  <th>oldbalanceOrg</th>  <td> 1.004e-07</td> <td>  9.5e-11</td> <td> 1056.277</td> <td> 0.000</td> <td>    1e-07</td> <td> 1.01e-07</td>\n",
       "</tr>\n",
       "<tr>\n",
       "  <th>newbalanceOrig</th> <td>-9.951e-08</td> <td> 9.41e-11</td> <td>-1057.472</td> <td> 0.000</td> <td>-9.97e-08</td> <td>-9.93e-08</td>\n",
       "</tr>\n",
       "<tr>\n",
       "  <th>oldbalanceDest</th> <td> 9.341e-09</td> <td>  3.1e-11</td> <td>  301.564</td> <td> 0.000</td> <td> 9.28e-09</td> <td>  9.4e-09</td>\n",
       "</tr>\n",
       "<tr>\n",
       "  <th>newbalanceDest</th> <td>-9.447e-09</td> <td> 3.08e-11</td> <td> -307.044</td> <td> 0.000</td> <td>-9.51e-09</td> <td>-9.39e-09</td>\n",
       "</tr>\n",
       "<tr>\n",
       "  <th>isFlaggedFraud</th> <td>    0.9258</td> <td>    0.008</td> <td>  112.604</td> <td> 0.000</td> <td>    0.910</td> <td>    0.942</td>\n",
       "</tr>\n",
       "<tr>\n",
       "  <th>type</th>           <td>   -0.0015</td> <td> 8.61e-06</td> <td> -175.834</td> <td> 0.000</td> <td>   -0.002</td> <td>   -0.001</td>\n",
       "</tr>\n",
       "</table>\n",
       "<table class=\"simpletable\">\n",
       "<tr>\n",
       "  <th>Omnibus:</th>       <td>15506700.007</td> <th>  Durbin-Watson:     </th>     <td>   0.700</td>    \n",
       "</tr>\n",
       "<tr>\n",
       "  <th>Prob(Omnibus):</th>    <td> 0.000</td>    <th>  Jarque-Bera (JB):  </th> <td>147990103740.533</td>\n",
       "</tr>\n",
       "<tr>\n",
       "  <th>Skew:</th>             <td>26.139</td>    <th>  Prob(JB):          </th>     <td>    0.00</td>    \n",
       "</tr>\n",
       "<tr>\n",
       "  <th>Kurtosis:</th>         <td>748.312</td>   <th>  Cond. No.          </th>     <td>3.37e+09</td>    \n",
       "</tr>\n",
       "</table><br/><br/>Notes:<br/>[1] R² is computed without centering (uncentered) since the model does not contain a constant.<br/>[2] Standard Errors assume that the covariance matrix of the errors is correctly specified.<br/>[3] The condition number is large, 3.37e+09. This might indicate that there are<br/>strong multicollinearity or other numerical problems."
      ],
      "text/plain": [
       "<class 'statsmodels.iolib.summary.Summary'>\n",
       "\"\"\"\n",
       "                                 OLS Regression Results                                \n",
       "=======================================================================================\n",
       "Dep. Variable:                isFraud   R-squared (uncentered):                   0.163\n",
       "Model:                            OLS   Adj. R-squared (uncentered):              0.163\n",
       "Method:                 Least Squares   F-statistic:                          1.544e+05\n",
       "Date:                Sun, 12 Jun 2022   Prob (F-statistic):                        0.00\n",
       "Time:                        21:31:38   Log-Likelihood:                      1.2700e+07\n",
       "No. Observations:             6362620   AIC:                                 -2.540e+07\n",
       "Df Residuals:                 6362612   BIC:                                 -2.540e+07\n",
       "Df Model:                           8                                                  \n",
       "Covariance Type:            nonrobust                                                  \n",
       "==================================================================================\n",
       "                     coef    std err          t      P>|t|      [0.025      0.975]\n",
       "----------------------------------------------------------------------------------\n",
       "step            1.427e-05   6.91e-08    206.453      0.000    1.41e-05    1.44e-05\n",
       "amount          1.355e-08   4.15e-11    326.943      0.000    1.35e-08    1.36e-08\n",
       "oldbalanceOrg   1.004e-07    9.5e-11   1056.277      0.000       1e-07    1.01e-07\n",
       "newbalanceOrig -9.951e-08   9.41e-11  -1057.472      0.000   -9.97e-08   -9.93e-08\n",
       "oldbalanceDest  9.341e-09    3.1e-11    301.564      0.000    9.28e-09     9.4e-09\n",
       "newbalanceDest -9.447e-09   3.08e-11   -307.044      0.000   -9.51e-09   -9.39e-09\n",
       "isFlaggedFraud     0.9258      0.008    112.604      0.000       0.910       0.942\n",
       "type              -0.0015   8.61e-06   -175.834      0.000      -0.002      -0.001\n",
       "==============================================================================\n",
       "Omnibus:                 15506700.007   Durbin-Watson:                   0.700\n",
       "Prob(Omnibus):                  0.000   Jarque-Bera (JB):     147990103740.533\n",
       "Skew:                          26.139   Prob(JB):                         0.00\n",
       "Kurtosis:                     748.312   Cond. No.                     3.37e+09\n",
       "==============================================================================\n",
       "\n",
       "Notes:\n",
       "[1] R² is computed without centering (uncentered) since the model does not contain a constant.\n",
       "[2] Standard Errors assume that the covariance matrix of the errors is correctly specified.\n",
       "[3] The condition number is large, 3.37e+09. This might indicate that there are\n",
       "strong multicollinearity or other numerical problems.\n",
       "\"\"\""
      ]
     },
     "execution_count": 18,
     "metadata": {},
     "output_type": "execute_result"
    }
   ],
   "source": [
    "import statsmodels.api as sm\n",
    "smodel=sm.OLS(df_concat['isFraud'], df_concat[['step', 'amount', 'oldbalanceOrg', 'newbalanceOrig', 'oldbalanceDest',\n",
    "       'newbalanceDest', 'isFlaggedFraud', 'type']])\n",
    "res=smodel.fit()\n",
    "res.summary()"
   ]
  },
  {
   "cell_type": "code",
   "execution_count": 19,
   "metadata": {
    "execution": {
     "iopub.execute_input": "2022-04-18T16:57:30.678237Z",
     "iopub.status.busy": "2022-04-18T16:57:30.677926Z",
     "iopub.status.idle": "2022-04-18T16:58:08.941779Z",
     "shell.execute_reply": "2022-04-18T16:58:08.940986Z"
    },
    "papermill": {
     "duration": 38.391275,
     "end_time": "2022-04-18T16:58:09.022555",
     "exception": false,
     "start_time": "2022-04-18T16:57:30.631280",
     "status": "completed"
    },
    "tags": []
   },
   "outputs": [
    {
     "data": {
      "text/html": [
       "<div>\n",
       "<style scoped>\n",
       "    .dataframe tbody tr th:only-of-type {\n",
       "        vertical-align: middle;\n",
       "    }\n",
       "\n",
       "    .dataframe tbody tr th {\n",
       "        vertical-align: top;\n",
       "    }\n",
       "\n",
       "    .dataframe thead th {\n",
       "        text-align: right;\n",
       "    }\n",
       "</style>\n",
       "<table border=\"1\" class=\"dataframe\">\n",
       "  <thead>\n",
       "    <tr style=\"text-align: right;\">\n",
       "      <th></th>\n",
       "      <th>Column name</th>\n",
       "      <th>VIF</th>\n",
       "    </tr>\n",
       "  </thead>\n",
       "  <tbody>\n",
       "    <tr>\n",
       "      <th>3</th>\n",
       "      <td>newbalanceOrig</td>\n",
       "      <td>483.731350</td>\n",
       "    </tr>\n",
       "    <tr>\n",
       "      <th>2</th>\n",
       "      <td>oldbalanceOrg</td>\n",
       "      <td>480.228469</td>\n",
       "    </tr>\n",
       "    <tr>\n",
       "      <th>5</th>\n",
       "      <td>newbalanceDest</td>\n",
       "      <td>83.582019</td>\n",
       "    </tr>\n",
       "    <tr>\n",
       "      <th>4</th>\n",
       "      <td>oldbalanceDest</td>\n",
       "      <td>72.097182</td>\n",
       "    </tr>\n",
       "    <tr>\n",
       "      <th>1</th>\n",
       "      <td>amount</td>\n",
       "      <td>4.015720</td>\n",
       "    </tr>\n",
       "    <tr>\n",
       "      <th>0</th>\n",
       "      <td>step</td>\n",
       "      <td>2.235192</td>\n",
       "    </tr>\n",
       "    <tr>\n",
       "      <th>7</th>\n",
       "      <td>type</td>\n",
       "      <td>2.075263</td>\n",
       "    </tr>\n",
       "    <tr>\n",
       "      <th>6</th>\n",
       "      <td>isFlaggedFraud</td>\n",
       "      <td>1.000571</td>\n",
       "    </tr>\n",
       "  </tbody>\n",
       "</table>\n",
       "</div>"
      ],
      "text/plain": [
       "      Column name         VIF\n",
       "3  newbalanceOrig  483.731350\n",
       "2   oldbalanceOrg  480.228469\n",
       "5  newbalanceDest   83.582019\n",
       "4  oldbalanceDest   72.097182\n",
       "1          amount    4.015720\n",
       "0            step    2.235192\n",
       "7            type    2.075263\n",
       "6  isFlaggedFraud    1.000571"
      ]
     },
     "execution_count": 19,
     "metadata": {},
     "output_type": "execute_result"
    }
   ],
   "source": [
    "from statsmodels.stats.outliers_influence import variance_inflation_factor\n",
    "\n",
    "pd.DataFrame({'Column name': column, 'VIF': variance_inflation_factor(smodel.exog, i)} \n",
    "             for i, column in enumerate(smodel.exog_names)\n",
    "             if column != 'Intercept').sort_values(by='VIF', ascending=False)"
   ]
  },
  {
   "cell_type": "markdown",
   "metadata": {
    "papermill": {
     "duration": 0.039869,
     "end_time": "2022-04-18T16:58:09.115300",
     "exception": false,
     "start_time": "2022-04-18T16:58:09.075431",
     "status": "completed"
    },
    "tags": []
   },
   "source": [
    "### columns related with balance have extremely high VIF. We can lower VIF by scaling. We're gonna check classification accuracy score first, then we will do scaling work and check for accuracy. "
   ]
  },
  {
   "cell_type": "code",
   "execution_count": 20,
   "metadata": {
    "execution": {
     "iopub.execute_input": "2022-04-18T16:58:09.196805Z",
     "iopub.status.busy": "2022-04-18T16:58:09.196570Z",
     "iopub.status.idle": "2022-04-18T16:58:09.647898Z",
     "shell.execute_reply": "2022-04-18T16:58:09.646963Z"
    },
    "papermill": {
     "duration": 0.49433,
     "end_time": "2022-04-18T16:58:09.650044",
     "exception": false,
     "start_time": "2022-04-18T16:58:09.155714",
     "status": "completed"
    },
    "tags": []
   },
   "outputs": [
    {
     "name": "stderr",
     "output_type": "stream",
     "text": [
      "C:\\Users\\Karim\\Anaconda3\\lib\\site-packages\\sklearn\\linear_model\\least_angle.py:30: DeprecationWarning: `np.float` is a deprecated alias for the builtin `float`. To silence this warning, use `float` by itself. Doing this will not modify any behavior and is safe. If you specifically wanted the numpy scalar type, use `np.float64` here.\n",
      "Deprecated in NumPy 1.20; for more details and guidance: https://numpy.org/devdocs/release/1.20.0-notes.html#deprecations\n",
      "  method='lar', copy_X=True, eps=np.finfo(np.float).eps,\n",
      "C:\\Users\\Karim\\Anaconda3\\lib\\site-packages\\sklearn\\linear_model\\least_angle.py:167: DeprecationWarning: `np.float` is a deprecated alias for the builtin `float`. To silence this warning, use `float` by itself. Doing this will not modify any behavior and is safe. If you specifically wanted the numpy scalar type, use `np.float64` here.\n",
      "Deprecated in NumPy 1.20; for more details and guidance: https://numpy.org/devdocs/release/1.20.0-notes.html#deprecations\n",
      "  method='lar', copy_X=True, eps=np.finfo(np.float).eps,\n",
      "C:\\Users\\Karim\\Anaconda3\\lib\\site-packages\\sklearn\\linear_model\\least_angle.py:284: DeprecationWarning: `np.float` is a deprecated alias for the builtin `float`. To silence this warning, use `float` by itself. Doing this will not modify any behavior and is safe. If you specifically wanted the numpy scalar type, use `np.float64` here.\n",
      "Deprecated in NumPy 1.20; for more details and guidance: https://numpy.org/devdocs/release/1.20.0-notes.html#deprecations\n",
      "  eps=np.finfo(np.float).eps, copy_Gram=True, verbose=0,\n",
      "C:\\Users\\Karim\\Anaconda3\\lib\\site-packages\\sklearn\\linear_model\\least_angle.py:862: DeprecationWarning: `np.float` is a deprecated alias for the builtin `float`. To silence this warning, use `float` by itself. Doing this will not modify any behavior and is safe. If you specifically wanted the numpy scalar type, use `np.float64` here.\n",
      "Deprecated in NumPy 1.20; for more details and guidance: https://numpy.org/devdocs/release/1.20.0-notes.html#deprecations\n",
      "  eps=np.finfo(np.float).eps, copy_X=True, fit_path=True,\n",
      "C:\\Users\\Karim\\Anaconda3\\lib\\site-packages\\sklearn\\linear_model\\least_angle.py:1101: DeprecationWarning: `np.float` is a deprecated alias for the builtin `float`. To silence this warning, use `float` by itself. Doing this will not modify any behavior and is safe. If you specifically wanted the numpy scalar type, use `np.float64` here.\n",
      "Deprecated in NumPy 1.20; for more details and guidance: https://numpy.org/devdocs/release/1.20.0-notes.html#deprecations\n",
      "  eps=np.finfo(np.float).eps, copy_X=True, fit_path=True,\n",
      "C:\\Users\\Karim\\Anaconda3\\lib\\site-packages\\sklearn\\linear_model\\least_angle.py:1127: DeprecationWarning: `np.float` is a deprecated alias for the builtin `float`. To silence this warning, use `float` by itself. Doing this will not modify any behavior and is safe. If you specifically wanted the numpy scalar type, use `np.float64` here.\n",
      "Deprecated in NumPy 1.20; for more details and guidance: https://numpy.org/devdocs/release/1.20.0-notes.html#deprecations\n",
      "  eps=np.finfo(np.float).eps, positive=False):\n",
      "C:\\Users\\Karim\\Anaconda3\\lib\\site-packages\\sklearn\\linear_model\\least_angle.py:1362: DeprecationWarning: `np.float` is a deprecated alias for the builtin `float`. To silence this warning, use `float` by itself. Doing this will not modify any behavior and is safe. If you specifically wanted the numpy scalar type, use `np.float64` here.\n",
      "Deprecated in NumPy 1.20; for more details and guidance: https://numpy.org/devdocs/release/1.20.0-notes.html#deprecations\n",
      "  max_n_alphas=1000, n_jobs=None, eps=np.finfo(np.float).eps,\n",
      "C:\\Users\\Karim\\Anaconda3\\lib\\site-packages\\sklearn\\linear_model\\least_angle.py:1602: DeprecationWarning: `np.float` is a deprecated alias for the builtin `float`. To silence this warning, use `float` by itself. Doing this will not modify any behavior and is safe. If you specifically wanted the numpy scalar type, use `np.float64` here.\n",
      "Deprecated in NumPy 1.20; for more details and guidance: https://numpy.org/devdocs/release/1.20.0-notes.html#deprecations\n",
      "  max_n_alphas=1000, n_jobs=None, eps=np.finfo(np.float).eps,\n",
      "C:\\Users\\Karim\\Anaconda3\\lib\\site-packages\\sklearn\\linear_model\\least_angle.py:1738: DeprecationWarning: `np.float` is a deprecated alias for the builtin `float`. To silence this warning, use `float` by itself. Doing this will not modify any behavior and is safe. If you specifically wanted the numpy scalar type, use `np.float64` here.\n",
      "Deprecated in NumPy 1.20; for more details and guidance: https://numpy.org/devdocs/release/1.20.0-notes.html#deprecations\n",
      "  eps=np.finfo(np.float).eps, copy_X=True, positive=False):\n",
      "C:\\Users\\Karim\\Anaconda3\\lib\\site-packages\\sklearn\\decomposition\\online_lda.py:29: DeprecationWarning: `np.float` is a deprecated alias for the builtin `float`. To silence this warning, use `float` by itself. Doing this will not modify any behavior and is safe. If you specifically wanted the numpy scalar type, use `np.float64` here.\n",
      "Deprecated in NumPy 1.20; for more details and guidance: https://numpy.org/devdocs/release/1.20.0-notes.html#deprecations\n",
      "  EPS = np.finfo(np.float).eps\n"
     ]
    }
   ],
   "source": [
    "from sklearn.model_selection import train_test_split\n",
    "from sklearn import metrics\n",
    "from sklearn.tree import DecisionTreeClassifier\n",
    "\n",
    "X=df_concat.drop(columns=['isFraud'])\n",
    "y=df_concat['isFraud']"
   ]
  },
  {
   "cell_type": "code",
   "execution_count": 21,
   "metadata": {
    "execution": {
     "iopub.execute_input": "2022-04-18T16:58:09.740720Z",
     "iopub.status.busy": "2022-04-18T16:58:09.740193Z",
     "iopub.status.idle": "2022-04-18T16:58:11.289121Z",
     "shell.execute_reply": "2022-04-18T16:58:11.288354Z"
    },
    "papermill": {
     "duration": 1.597652,
     "end_time": "2022-04-18T16:58:11.291445",
     "exception": false,
     "start_time": "2022-04-18T16:58:09.693793",
     "status": "completed"
    },
    "tags": []
   },
   "outputs": [],
   "source": [
    "X_train, X_test, y_train, y_test = train_test_split(X, y, test_size=0.3, random_state=808)"
   ]
  },
  {
   "cell_type": "code",
   "execution_count": 22,
   "metadata": {
    "execution": {
     "iopub.execute_input": "2022-04-18T16:58:11.380201Z",
     "iopub.status.busy": "2022-04-18T16:58:11.379691Z",
     "iopub.status.idle": "2022-04-18T16:59:12.144487Z",
     "shell.execute_reply": "2022-04-18T16:59:12.143638Z"
    },
    "papermill": {
     "duration": 60.860023,
     "end_time": "2022-04-18T16:59:12.194695",
     "exception": false,
     "start_time": "2022-04-18T16:58:11.334672",
     "status": "completed"
    },
    "tags": []
   },
   "outputs": [
    {
     "name": "stderr",
     "output_type": "stream",
     "text": [
      "C:\\Users\\Karim\\Anaconda3\\lib\\site-packages\\sklearn\\tree\\tree.py:163: DeprecationWarning: `np.int` is a deprecated alias for the builtin `int`. To silence this warning, use `int` by itself. Doing this will not modify any behavior and is safe. When replacing `np.int`, you may wish to use e.g. `np.int64` or `np.int32` to specify the precision. If you wish to review your current use, check the release note link for additional information.\n",
      "Deprecated in NumPy 1.20; for more details and guidance: https://numpy.org/devdocs/release/1.20.0-notes.html#deprecations\n",
      "  y_encoded = np.zeros(y.shape, dtype=np.int)\n"
     ]
    },
    {
     "name": "stdout",
     "output_type": "stream",
     "text": [
      "Accuracy_score:  99.9689855227354\n"
     ]
    }
   ],
   "source": [
    "dtc = DecisionTreeClassifier(random_state=808)\n",
    "\n",
    "model = dtc.fit(X_train, y_train)\n",
    "pred = model.predict(X_test)\n",
    "\n",
    "\n",
    "print ('Accuracy_score: ', metrics.accuracy_score(y_test, pred)*100)"
   ]
  },
  {
   "cell_type": "markdown",
   "metadata": {
    "papermill": {
     "duration": 0.044993,
     "end_time": "2022-04-18T16:59:12.284574",
     "exception": false,
     "start_time": "2022-04-18T16:59:12.239581",
     "status": "completed"
    },
    "tags": []
   },
   "source": [
    "# Before scaling let's check for continuous columns info"
   ]
  },
  {
   "cell_type": "code",
   "execution_count": 23,
   "metadata": {
    "execution": {
     "iopub.execute_input": "2022-04-18T16:59:12.368597Z",
     "iopub.status.busy": "2022-04-18T16:59:12.368092Z",
     "iopub.status.idle": "2022-04-18T16:59:12.784358Z",
     "shell.execute_reply": "2022-04-18T16:59:12.783443Z"
    },
    "papermill": {
     "duration": 0.460312,
     "end_time": "2022-04-18T16:59:12.786419",
     "exception": false,
     "start_time": "2022-04-18T16:59:12.326107",
     "status": "completed"
    },
    "tags": []
   },
   "outputs": [
    {
     "data": {
      "text/plain": [
       "CASH_OUT    2237500\n",
       "PAYMENT     2151495\n",
       "CASH_IN     1399284\n",
       "TRANSFER     532909\n",
       "DEBIT         41432\n",
       "Name: type, dtype: int64"
      ]
     },
     "execution_count": 23,
     "metadata": {},
     "output_type": "execute_result"
    }
   ],
   "source": [
    "df['type'].value_counts()"
   ]
  },
  {
   "cell_type": "code",
   "execution_count": 24,
   "metadata": {
    "execution": {
     "iopub.execute_input": "2022-04-18T16:59:12.872107Z",
     "iopub.status.busy": "2022-04-18T16:59:12.871528Z",
     "iopub.status.idle": "2022-04-18T16:59:15.660138Z",
     "shell.execute_reply": "2022-04-18T16:59:15.659253Z"
    },
    "papermill": {
     "duration": 2.833853,
     "end_time": "2022-04-18T16:59:15.662487",
     "exception": false,
     "start_time": "2022-04-18T16:59:12.828634",
     "status": "completed"
    },
    "tags": []
   },
   "outputs": [],
   "source": [
    "cashout=df[df['type']=='CASH_OUT']\n",
    "payment=df[df['type']=='PAYMENT']\n",
    "cahin=df[df['type']=='CASH_IN']\n",
    "transfer=df[df['type']=='TRANSFER']\n",
    "debit=df[df['type']=='DEBIT']"
   ]
  },
  {
   "cell_type": "markdown",
   "metadata": {
    "papermill": {
     "duration": 0.040707,
     "end_time": "2022-04-18T16:59:15.744362",
     "exception": false,
     "start_time": "2022-04-18T16:59:15.703655",
     "status": "completed"
    },
    "tags": []
   },
   "source": [
    "### Insight that we've got: Regardless of paying type, columns related with balance have outliers at very big value. So I am planning to use RobustScaler to all of them."
   ]
  },
  {
   "cell_type": "code",
   "execution_count": 25,
   "metadata": {
    "execution": {
     "iopub.execute_input": "2022-04-18T16:59:15.827442Z",
     "iopub.status.busy": "2022-04-18T16:59:15.827045Z",
     "iopub.status.idle": "2022-04-18T16:59:16.267196Z",
     "shell.execute_reply": "2022-04-18T16:59:16.266365Z"
    },
    "papermill": {
     "duration": 0.484386,
     "end_time": "2022-04-18T16:59:16.269287",
     "exception": false,
     "start_time": "2022-04-18T16:59:15.784901",
     "status": "completed"
    },
    "tags": []
   },
   "outputs": [
    {
     "data": {
      "text/html": [
       "<div>\n",
       "<style scoped>\n",
       "    .dataframe tbody tr th:only-of-type {\n",
       "        vertical-align: middle;\n",
       "    }\n",
       "\n",
       "    .dataframe tbody tr th {\n",
       "        vertical-align: top;\n",
       "    }\n",
       "\n",
       "    .dataframe thead th {\n",
       "        text-align: right;\n",
       "    }\n",
       "</style>\n",
       "<table border=\"1\" class=\"dataframe\">\n",
       "  <thead>\n",
       "    <tr style=\"text-align: right;\">\n",
       "      <th></th>\n",
       "      <th>oldbalanceOrg</th>\n",
       "      <th>newbalanceOrig</th>\n",
       "      <th>oldbalanceDest</th>\n",
       "      <th>newbalanceDest</th>\n",
       "    </tr>\n",
       "  </thead>\n",
       "  <tbody>\n",
       "    <tr>\n",
       "      <th>count</th>\n",
       "      <td>2.237500e+06</td>\n",
       "      <td>2.237500e+06</td>\n",
       "      <td>2.237500e+06</td>\n",
       "      <td>2.237500e+06</td>\n",
       "    </tr>\n",
       "    <tr>\n",
       "      <th>mean</th>\n",
       "      <td>4.602380e+04</td>\n",
       "      <td>1.747419e+04</td>\n",
       "      <td>1.497758e+06</td>\n",
       "      <td>1.691326e+06</td>\n",
       "    </tr>\n",
       "    <tr>\n",
       "      <th>std</th>\n",
       "      <td>1.791326e+05</td>\n",
       "      <td>1.091940e+05</td>\n",
       "      <td>3.633876e+06</td>\n",
       "      <td>3.663008e+06</td>\n",
       "    </tr>\n",
       "    <tr>\n",
       "      <th>min</th>\n",
       "      <td>0.000000e+00</td>\n",
       "      <td>0.000000e+00</td>\n",
       "      <td>0.000000e+00</td>\n",
       "      <td>0.000000e+00</td>\n",
       "    </tr>\n",
       "    <tr>\n",
       "      <th>25%</th>\n",
       "      <td>0.000000e+00</td>\n",
       "      <td>0.000000e+00</td>\n",
       "      <td>1.146859e+05</td>\n",
       "      <td>2.858970e+05</td>\n",
       "    </tr>\n",
       "    <tr>\n",
       "      <th>50%</th>\n",
       "      <td>5.560000e+02</td>\n",
       "      <td>0.000000e+00</td>\n",
       "      <td>4.880985e+05</td>\n",
       "      <td>6.876067e+05</td>\n",
       "    </tr>\n",
       "    <tr>\n",
       "      <th>75%</th>\n",
       "      <td>3.144624e+04</td>\n",
       "      <td>0.000000e+00</td>\n",
       "      <td>1.510450e+06</td>\n",
       "      <td>1.741879e+06</td>\n",
       "    </tr>\n",
       "    <tr>\n",
       "      <th>max</th>\n",
       "      <td>4.381886e+07</td>\n",
       "      <td>4.368662e+07</td>\n",
       "      <td>3.560159e+08</td>\n",
       "      <td>3.561793e+08</td>\n",
       "    </tr>\n",
       "  </tbody>\n",
       "</table>\n",
       "</div>"
      ],
      "text/plain": [
       "       oldbalanceOrg  newbalanceOrig  oldbalanceDest  newbalanceDest\n",
       "count   2.237500e+06    2.237500e+06    2.237500e+06    2.237500e+06\n",
       "mean    4.602380e+04    1.747419e+04    1.497758e+06    1.691326e+06\n",
       "std     1.791326e+05    1.091940e+05    3.633876e+06    3.663008e+06\n",
       "min     0.000000e+00    0.000000e+00    0.000000e+00    0.000000e+00\n",
       "25%     0.000000e+00    0.000000e+00    1.146859e+05    2.858970e+05\n",
       "50%     5.560000e+02    0.000000e+00    4.880985e+05    6.876067e+05\n",
       "75%     3.144624e+04    0.000000e+00    1.510450e+06    1.741879e+06\n",
       "max     4.381886e+07    4.368662e+07    3.560159e+08    3.561793e+08"
      ]
     },
     "execution_count": 25,
     "metadata": {},
     "output_type": "execute_result"
    }
   ],
   "source": [
    "cashout[['oldbalanceOrg','newbalanceOrig','oldbalanceDest','newbalanceDest']].describe()"
   ]
  },
  {
   "cell_type": "code",
   "execution_count": 26,
   "metadata": {
    "execution": {
     "iopub.execute_input": "2022-04-18T16:59:16.355817Z",
     "iopub.status.busy": "2022-04-18T16:59:16.355352Z",
     "iopub.status.idle": "2022-04-18T16:59:16.702219Z",
     "shell.execute_reply": "2022-04-18T16:59:16.701450Z"
    },
    "papermill": {
     "duration": 0.39214,
     "end_time": "2022-04-18T16:59:16.703991",
     "exception": false,
     "start_time": "2022-04-18T16:59:16.311851",
     "status": "completed"
    },
    "tags": []
   },
   "outputs": [
    {
     "data": {
      "text/html": [
       "<div>\n",
       "<style scoped>\n",
       "    .dataframe tbody tr th:only-of-type {\n",
       "        vertical-align: middle;\n",
       "    }\n",
       "\n",
       "    .dataframe tbody tr th {\n",
       "        vertical-align: top;\n",
       "    }\n",
       "\n",
       "    .dataframe thead th {\n",
       "        text-align: right;\n",
       "    }\n",
       "</style>\n",
       "<table border=\"1\" class=\"dataframe\">\n",
       "  <thead>\n",
       "    <tr style=\"text-align: right;\">\n",
       "      <th></th>\n",
       "      <th>oldbalanceOrg</th>\n",
       "      <th>newbalanceOrig</th>\n",
       "      <th>oldbalanceDest</th>\n",
       "      <th>newbalanceDest</th>\n",
       "    </tr>\n",
       "  </thead>\n",
       "  <tbody>\n",
       "    <tr>\n",
       "      <th>count</th>\n",
       "      <td>2.151495e+06</td>\n",
       "      <td>2.151495e+06</td>\n",
       "      <td>2151495.0</td>\n",
       "      <td>2151495.0</td>\n",
       "    </tr>\n",
       "    <tr>\n",
       "      <th>mean</th>\n",
       "      <td>6.821683e+04</td>\n",
       "      <td>6.183789e+04</td>\n",
       "      <td>0.0</td>\n",
       "      <td>0.0</td>\n",
       "    </tr>\n",
       "    <tr>\n",
       "      <th>std</th>\n",
       "      <td>1.989911e+05</td>\n",
       "      <td>1.969915e+05</td>\n",
       "      <td>0.0</td>\n",
       "      <td>0.0</td>\n",
       "    </tr>\n",
       "    <tr>\n",
       "      <th>min</th>\n",
       "      <td>0.000000e+00</td>\n",
       "      <td>0.000000e+00</td>\n",
       "      <td>0.0</td>\n",
       "      <td>0.0</td>\n",
       "    </tr>\n",
       "    <tr>\n",
       "      <th>25%</th>\n",
       "      <td>0.000000e+00</td>\n",
       "      <td>0.000000e+00</td>\n",
       "      <td>0.0</td>\n",
       "      <td>0.0</td>\n",
       "    </tr>\n",
       "    <tr>\n",
       "      <th>50%</th>\n",
       "      <td>1.053000e+04</td>\n",
       "      <td>0.000000e+00</td>\n",
       "      <td>0.0</td>\n",
       "      <td>0.0</td>\n",
       "    </tr>\n",
       "    <tr>\n",
       "      <th>75%</th>\n",
       "      <td>6.088300e+04</td>\n",
       "      <td>4.965413e+04</td>\n",
       "      <td>0.0</td>\n",
       "      <td>0.0</td>\n",
       "    </tr>\n",
       "    <tr>\n",
       "      <th>max</th>\n",
       "      <td>4.368662e+07</td>\n",
       "      <td>4.367380e+07</td>\n",
       "      <td>0.0</td>\n",
       "      <td>0.0</td>\n",
       "    </tr>\n",
       "  </tbody>\n",
       "</table>\n",
       "</div>"
      ],
      "text/plain": [
       "       oldbalanceOrg  newbalanceOrig  oldbalanceDest  newbalanceDest\n",
       "count   2.151495e+06    2.151495e+06       2151495.0       2151495.0\n",
       "mean    6.821683e+04    6.183789e+04             0.0             0.0\n",
       "std     1.989911e+05    1.969915e+05             0.0             0.0\n",
       "min     0.000000e+00    0.000000e+00             0.0             0.0\n",
       "25%     0.000000e+00    0.000000e+00             0.0             0.0\n",
       "50%     1.053000e+04    0.000000e+00             0.0             0.0\n",
       "75%     6.088300e+04    4.965413e+04             0.0             0.0\n",
       "max     4.368662e+07    4.367380e+07             0.0             0.0"
      ]
     },
     "execution_count": 26,
     "metadata": {},
     "output_type": "execute_result"
    }
   ],
   "source": [
    "payment[['oldbalanceOrg','newbalanceOrig','oldbalanceDest','newbalanceDest']].describe()"
   ]
  },
  {
   "cell_type": "code",
   "execution_count": 27,
   "metadata": {
    "execution": {
     "iopub.execute_input": "2022-04-18T16:59:16.789614Z",
     "iopub.status.busy": "2022-04-18T16:59:16.788861Z",
     "iopub.status.idle": "2022-04-18T16:59:17.054225Z",
     "shell.execute_reply": "2022-04-18T16:59:17.053420Z"
    },
    "papermill": {
     "duration": 0.31037,
     "end_time": "2022-04-18T16:59:17.056044",
     "exception": false,
     "start_time": "2022-04-18T16:59:16.745674",
     "status": "completed"
    },
    "tags": []
   },
   "outputs": [
    {
     "data": {
      "text/html": [
       "<div>\n",
       "<style scoped>\n",
       "    .dataframe tbody tr th:only-of-type {\n",
       "        vertical-align: middle;\n",
       "    }\n",
       "\n",
       "    .dataframe tbody tr th {\n",
       "        vertical-align: top;\n",
       "    }\n",
       "\n",
       "    .dataframe thead th {\n",
       "        text-align: right;\n",
       "    }\n",
       "</style>\n",
       "<table border=\"1\" class=\"dataframe\">\n",
       "  <thead>\n",
       "    <tr style=\"text-align: right;\">\n",
       "      <th></th>\n",
       "      <th>oldbalanceOrg</th>\n",
       "      <th>newbalanceOrig</th>\n",
       "      <th>oldbalanceDest</th>\n",
       "      <th>newbalanceDest</th>\n",
       "    </tr>\n",
       "  </thead>\n",
       "  <tbody>\n",
       "    <tr>\n",
       "      <th>count</th>\n",
       "      <td>1.399284e+06</td>\n",
       "      <td>1.399284e+06</td>\n",
       "      <td>1.399284e+06</td>\n",
       "      <td>1.399284e+06</td>\n",
       "    </tr>\n",
       "    <tr>\n",
       "      <th>mean</th>\n",
       "      <td>3.590464e+06</td>\n",
       "      <td>3.759379e+06</td>\n",
       "      <td>1.587919e+06</td>\n",
       "      <td>1.467105e+06</td>\n",
       "    </tr>\n",
       "    <tr>\n",
       "      <th>std</th>\n",
       "      <td>5.291825e+06</td>\n",
       "      <td>5.287487e+06</td>\n",
       "      <td>3.713923e+06</td>\n",
       "      <td>3.712985e+06</td>\n",
       "    </tr>\n",
       "    <tr>\n",
       "      <th>min</th>\n",
       "      <td>0.000000e+00</td>\n",
       "      <td>5.440000e+00</td>\n",
       "      <td>0.000000e+00</td>\n",
       "      <td>0.000000e+00</td>\n",
       "    </tr>\n",
       "    <tr>\n",
       "      <th>25%</th>\n",
       "      <td>3.776800e+04</td>\n",
       "      <td>2.497569e+05</td>\n",
       "      <td>1.612608e+05</td>\n",
       "      <td>4.274628e+04</td>\n",
       "    </tr>\n",
       "    <tr>\n",
       "      <th>50%</th>\n",
       "      <td>1.200093e+06</td>\n",
       "      <td>1.369115e+06</td>\n",
       "      <td>5.471373e+05</td>\n",
       "      <td>3.857514e+05</td>\n",
       "    </tr>\n",
       "    <tr>\n",
       "      <th>75%</th>\n",
       "      <td>5.284255e+06</td>\n",
       "      <td>5.450491e+06</td>\n",
       "      <td>1.619594e+06</td>\n",
       "      <td>1.465846e+06</td>\n",
       "    </tr>\n",
       "    <tr>\n",
       "      <th>max</th>\n",
       "      <td>3.893942e+07</td>\n",
       "      <td>3.894623e+07</td>\n",
       "      <td>3.555534e+08</td>\n",
       "      <td>3.553814e+08</td>\n",
       "    </tr>\n",
       "  </tbody>\n",
       "</table>\n",
       "</div>"
      ],
      "text/plain": [
       "       oldbalanceOrg  newbalanceOrig  oldbalanceDest  newbalanceDest\n",
       "count   1.399284e+06    1.399284e+06    1.399284e+06    1.399284e+06\n",
       "mean    3.590464e+06    3.759379e+06    1.587919e+06    1.467105e+06\n",
       "std     5.291825e+06    5.287487e+06    3.713923e+06    3.712985e+06\n",
       "min     0.000000e+00    5.440000e+00    0.000000e+00    0.000000e+00\n",
       "25%     3.776800e+04    2.497569e+05    1.612608e+05    4.274628e+04\n",
       "50%     1.200093e+06    1.369115e+06    5.471373e+05    3.857514e+05\n",
       "75%     5.284255e+06    5.450491e+06    1.619594e+06    1.465846e+06\n",
       "max     3.893942e+07    3.894623e+07    3.555534e+08    3.553814e+08"
      ]
     },
     "execution_count": 27,
     "metadata": {},
     "output_type": "execute_result"
    }
   ],
   "source": [
    "cahin[['oldbalanceOrg','newbalanceOrig','oldbalanceDest','newbalanceDest']].describe()"
   ]
  },
  {
   "cell_type": "code",
   "execution_count": 28,
   "metadata": {
    "execution": {
     "iopub.execute_input": "2022-04-18T16:59:17.142658Z",
     "iopub.status.busy": "2022-04-18T16:59:17.142261Z",
     "iopub.status.idle": "2022-04-18T16:59:17.241464Z",
     "shell.execute_reply": "2022-04-18T16:59:17.240684Z"
    },
    "papermill": {
     "duration": 0.144919,
     "end_time": "2022-04-18T16:59:17.243282",
     "exception": false,
     "start_time": "2022-04-18T16:59:17.098363",
     "status": "completed"
    },
    "tags": []
   },
   "outputs": [
    {
     "data": {
      "text/html": [
       "<div>\n",
       "<style scoped>\n",
       "    .dataframe tbody tr th:only-of-type {\n",
       "        vertical-align: middle;\n",
       "    }\n",
       "\n",
       "    .dataframe tbody tr th {\n",
       "        vertical-align: top;\n",
       "    }\n",
       "\n",
       "    .dataframe thead th {\n",
       "        text-align: right;\n",
       "    }\n",
       "</style>\n",
       "<table border=\"1\" class=\"dataframe\">\n",
       "  <thead>\n",
       "    <tr style=\"text-align: right;\">\n",
       "      <th></th>\n",
       "      <th>oldbalanceOrg</th>\n",
       "      <th>newbalanceOrig</th>\n",
       "      <th>oldbalanceDest</th>\n",
       "      <th>newbalanceDest</th>\n",
       "    </tr>\n",
       "  </thead>\n",
       "  <tbody>\n",
       "    <tr>\n",
       "      <th>count</th>\n",
       "      <td>5.329090e+05</td>\n",
       "      <td>5.329090e+05</td>\n",
       "      <td>5.329090e+05</td>\n",
       "      <td>5.329090e+05</td>\n",
       "    </tr>\n",
       "    <tr>\n",
       "      <th>mean</th>\n",
       "      <td>5.444185e+04</td>\n",
       "      <td>1.028816e+04</td>\n",
       "      <td>2.567606e+06</td>\n",
       "      <td>3.554567e+06</td>\n",
       "    </tr>\n",
       "    <tr>\n",
       "      <th>std</th>\n",
       "      <td>4.399818e+05</td>\n",
       "      <td>2.623603e+05</td>\n",
       "      <td>6.037846e+06</td>\n",
       "      <td>7.387614e+06</td>\n",
       "    </tr>\n",
       "    <tr>\n",
       "      <th>min</th>\n",
       "      <td>0.000000e+00</td>\n",
       "      <td>0.000000e+00</td>\n",
       "      <td>0.000000e+00</td>\n",
       "      <td>0.000000e+00</td>\n",
       "    </tr>\n",
       "    <tr>\n",
       "      <th>25%</th>\n",
       "      <td>0.000000e+00</td>\n",
       "      <td>0.000000e+00</td>\n",
       "      <td>2.249354e+05</td>\n",
       "      <td>7.536934e+05</td>\n",
       "    </tr>\n",
       "    <tr>\n",
       "      <th>50%</th>\n",
       "      <td>0.000000e+00</td>\n",
       "      <td>0.000000e+00</td>\n",
       "      <td>1.015903e+06</td>\n",
       "      <td>1.725375e+06</td>\n",
       "    </tr>\n",
       "    <tr>\n",
       "      <th>75%</th>\n",
       "      <td>2.626600e+04</td>\n",
       "      <td>0.000000e+00</td>\n",
       "      <td>2.753798e+06</td>\n",
       "      <td>3.795986e+06</td>\n",
       "    </tr>\n",
       "    <tr>\n",
       "      <th>max</th>\n",
       "      <td>5.958504e+07</td>\n",
       "      <td>4.958504e+07</td>\n",
       "      <td>3.553805e+08</td>\n",
       "      <td>3.560159e+08</td>\n",
       "    </tr>\n",
       "  </tbody>\n",
       "</table>\n",
       "</div>"
      ],
      "text/plain": [
       "       oldbalanceOrg  newbalanceOrig  oldbalanceDest  newbalanceDest\n",
       "count   5.329090e+05    5.329090e+05    5.329090e+05    5.329090e+05\n",
       "mean    5.444185e+04    1.028816e+04    2.567606e+06    3.554567e+06\n",
       "std     4.399818e+05    2.623603e+05    6.037846e+06    7.387614e+06\n",
       "min     0.000000e+00    0.000000e+00    0.000000e+00    0.000000e+00\n",
       "25%     0.000000e+00    0.000000e+00    2.249354e+05    7.536934e+05\n",
       "50%     0.000000e+00    0.000000e+00    1.015903e+06    1.725375e+06\n",
       "75%     2.626600e+04    0.000000e+00    2.753798e+06    3.795986e+06\n",
       "max     5.958504e+07    4.958504e+07    3.553805e+08    3.560159e+08"
      ]
     },
     "execution_count": 28,
     "metadata": {},
     "output_type": "execute_result"
    }
   ],
   "source": [
    "transfer[['oldbalanceOrg','newbalanceOrig','oldbalanceDest','newbalanceDest']].describe()"
   ]
  },
  {
   "cell_type": "code",
   "execution_count": 29,
   "metadata": {
    "execution": {
     "iopub.execute_input": "2022-04-18T16:59:17.331471Z",
     "iopub.status.busy": "2022-04-18T16:59:17.330931Z",
     "iopub.status.idle": "2022-04-18T16:59:17.358850Z",
     "shell.execute_reply": "2022-04-18T16:59:17.358159Z"
    },
    "papermill": {
     "duration": 0.074133,
     "end_time": "2022-04-18T16:59:17.360558",
     "exception": false,
     "start_time": "2022-04-18T16:59:17.286425",
     "status": "completed"
    },
    "tags": []
   },
   "outputs": [
    {
     "data": {
      "text/html": [
       "<div>\n",
       "<style scoped>\n",
       "    .dataframe tbody tr th:only-of-type {\n",
       "        vertical-align: middle;\n",
       "    }\n",
       "\n",
       "    .dataframe tbody tr th {\n",
       "        vertical-align: top;\n",
       "    }\n",
       "\n",
       "    .dataframe thead th {\n",
       "        text-align: right;\n",
       "    }\n",
       "</style>\n",
       "<table border=\"1\" class=\"dataframe\">\n",
       "  <thead>\n",
       "    <tr style=\"text-align: right;\">\n",
       "      <th></th>\n",
       "      <th>oldbalanceOrg</th>\n",
       "      <th>newbalanceOrig</th>\n",
       "      <th>oldbalanceDest</th>\n",
       "      <th>newbalanceDest</th>\n",
       "    </tr>\n",
       "  </thead>\n",
       "  <tbody>\n",
       "    <tr>\n",
       "      <th>count</th>\n",
       "      <td>4.143200e+04</td>\n",
       "      <td>4.143200e+04</td>\n",
       "      <td>4.143200e+04</td>\n",
       "      <td>4.143200e+04</td>\n",
       "    </tr>\n",
       "    <tr>\n",
       "      <th>mean</th>\n",
       "      <td>6.864734e+04</td>\n",
       "      <td>6.516165e+04</td>\n",
       "      <td>1.493136e+06</td>\n",
       "      <td>1.513003e+06</td>\n",
       "    </tr>\n",
       "    <tr>\n",
       "      <th>std</th>\n",
       "      <td>1.384493e+05</td>\n",
       "      <td>1.376566e+05</td>\n",
       "      <td>4.386970e+06</td>\n",
       "      <td>4.395708e+06</td>\n",
       "    </tr>\n",
       "    <tr>\n",
       "      <th>min</th>\n",
       "      <td>0.000000e+00</td>\n",
       "      <td>0.000000e+00</td>\n",
       "      <td>8.500000e+01</td>\n",
       "      <td>0.000000e+00</td>\n",
       "    </tr>\n",
       "    <tr>\n",
       "      <th>25%</th>\n",
       "      <td>1.518500e+03</td>\n",
       "      <td>0.000000e+00</td>\n",
       "      <td>1.300251e+05</td>\n",
       "      <td>1.365075e+05</td>\n",
       "    </tr>\n",
       "    <tr>\n",
       "      <th>50%</th>\n",
       "      <td>2.082111e+04</td>\n",
       "      <td>1.663242e+04</td>\n",
       "      <td>4.244604e+05</td>\n",
       "      <td>4.393289e+05</td>\n",
       "    </tr>\n",
       "    <tr>\n",
       "      <th>75%</th>\n",
       "      <td>6.880661e+04</td>\n",
       "      <td>6.263080e+04</td>\n",
       "      <td>1.372975e+06</td>\n",
       "      <td>1.404072e+06</td>\n",
       "    </tr>\n",
       "    <tr>\n",
       "      <th>max</th>\n",
       "      <td>4.362014e+06</td>\n",
       "      <td>4.359375e+06</td>\n",
       "      <td>3.278278e+08</td>\n",
       "      <td>3.278521e+08</td>\n",
       "    </tr>\n",
       "  </tbody>\n",
       "</table>\n",
       "</div>"
      ],
      "text/plain": [
       "       oldbalanceOrg  newbalanceOrig  oldbalanceDest  newbalanceDest\n",
       "count   4.143200e+04    4.143200e+04    4.143200e+04    4.143200e+04\n",
       "mean    6.864734e+04    6.516165e+04    1.493136e+06    1.513003e+06\n",
       "std     1.384493e+05    1.376566e+05    4.386970e+06    4.395708e+06\n",
       "min     0.000000e+00    0.000000e+00    8.500000e+01    0.000000e+00\n",
       "25%     1.518500e+03    0.000000e+00    1.300251e+05    1.365075e+05\n",
       "50%     2.082111e+04    1.663242e+04    4.244604e+05    4.393289e+05\n",
       "75%     6.880661e+04    6.263080e+04    1.372975e+06    1.404072e+06\n",
       "max     4.362014e+06    4.359375e+06    3.278278e+08    3.278521e+08"
      ]
     },
     "execution_count": 29,
     "metadata": {},
     "output_type": "execute_result"
    }
   ],
   "source": [
    "debit[['oldbalanceOrg','newbalanceOrig','oldbalanceDest','newbalanceDest']].describe()"
   ]
  },
  {
   "cell_type": "markdown",
   "metadata": {
    "papermill": {
     "duration": 0.043054,
     "end_time": "2022-04-18T16:59:17.446601",
     "exception": false,
     "start_time": "2022-04-18T16:59:17.403547",
     "status": "completed"
    },
    "tags": []
   },
   "source": [
    "# Use Scaler for continuous and high VIF column "
   ]
  },
  {
   "cell_type": "code",
   "execution_count": 30,
   "metadata": {
    "execution": {
     "iopub.execute_input": "2022-04-18T16:59:17.534340Z",
     "iopub.status.busy": "2022-04-18T16:59:17.533827Z",
     "iopub.status.idle": "2022-04-18T16:59:18.313335Z",
     "shell.execute_reply": "2022-04-18T16:59:18.312400Z"
    },
    "papermill": {
     "duration": 0.825495,
     "end_time": "2022-04-18T16:59:18.315165",
     "exception": false,
     "start_time": "2022-04-18T16:59:17.489670",
     "status": "completed"
    },
    "tags": []
   },
   "outputs": [
    {
     "data": {
      "text/html": [
       "<div>\n",
       "<style scoped>\n",
       "    .dataframe tbody tr th:only-of-type {\n",
       "        vertical-align: middle;\n",
       "    }\n",
       "\n",
       "    .dataframe tbody tr th {\n",
       "        vertical-align: top;\n",
       "    }\n",
       "\n",
       "    .dataframe thead th {\n",
       "        text-align: right;\n",
       "    }\n",
       "</style>\n",
       "<table border=\"1\" class=\"dataframe\">\n",
       "  <thead>\n",
       "    <tr style=\"text-align: right;\">\n",
       "      <th></th>\n",
       "      <th>oldbalanceOrg</th>\n",
       "      <th>newbalanceOrig</th>\n",
       "      <th>oldbalanceDest</th>\n",
       "      <th>newbalanceDest</th>\n",
       "    </tr>\n",
       "  </thead>\n",
       "  <tbody>\n",
       "    <tr>\n",
       "      <th>0</th>\n",
       "      <td>-0.132331</td>\n",
       "      <td>0.000000</td>\n",
       "      <td>-0.140737</td>\n",
       "      <td>-0.193338</td>\n",
       "    </tr>\n",
       "    <tr>\n",
       "      <th>1</th>\n",
       "      <td>2.298136</td>\n",
       "      <td>0.000000</td>\n",
       "      <td>12.561700</td>\n",
       "      <td>10.907893</td>\n",
       "    </tr>\n",
       "    <tr>\n",
       "      <th>2</th>\n",
       "      <td>-0.132331</td>\n",
       "      <td>0.000000</td>\n",
       "      <td>86.115229</td>\n",
       "      <td>74.797863</td>\n",
       "    </tr>\n",
       "    <tr>\n",
       "      <th>3</th>\n",
       "      <td>-0.123775</td>\n",
       "      <td>0.000000</td>\n",
       "      <td>-0.140737</td>\n",
       "      <td>-0.193338</td>\n",
       "    </tr>\n",
       "    <tr>\n",
       "      <th>4</th>\n",
       "      <td>-0.132331</td>\n",
       "      <td>0.000000</td>\n",
       "      <td>0.024562</td>\n",
       "      <td>0.002944</td>\n",
       "    </tr>\n",
       "    <tr>\n",
       "      <th>...</th>\n",
       "      <td>...</td>\n",
       "      <td>...</td>\n",
       "      <td>...</td>\n",
       "      <td>...</td>\n",
       "    </tr>\n",
       "    <tr>\n",
       "      <th>4453829</th>\n",
       "      <td>-0.104697</td>\n",
       "      <td>1.058588</td>\n",
       "      <td>0.185267</td>\n",
       "      <td>-0.051237</td>\n",
       "    </tr>\n",
       "    <tr>\n",
       "      <th>4453830</th>\n",
       "      <td>3.977394</td>\n",
       "      <td>2.705196</td>\n",
       "      <td>0.218292</td>\n",
       "      <td>0.156884</td>\n",
       "    </tr>\n",
       "    <tr>\n",
       "      <th>4453831</th>\n",
       "      <td>0.746850</td>\n",
       "      <td>0.046345</td>\n",
       "      <td>0.081967</td>\n",
       "      <td>0.130096</td>\n",
       "    </tr>\n",
       "    <tr>\n",
       "      <th>4453832</th>\n",
       "      <td>47.380174</td>\n",
       "      <td>37.855558</td>\n",
       "      <td>0.748254</td>\n",
       "      <td>0.236355</td>\n",
       "    </tr>\n",
       "    <tr>\n",
       "      <th>4453833</th>\n",
       "      <td>-0.132331</td>\n",
       "      <td>0.000000</td>\n",
       "      <td>1.444599</td>\n",
       "      <td>1.409486</td>\n",
       "    </tr>\n",
       "  </tbody>\n",
       "</table>\n",
       "<p>4453834 rows × 4 columns</p>\n",
       "</div>"
      ],
      "text/plain": [
       "         oldbalanceOrg  newbalanceOrig  oldbalanceDest  newbalanceDest\n",
       "0            -0.132331        0.000000       -0.140737       -0.193338\n",
       "1             2.298136        0.000000       12.561700       10.907893\n",
       "2            -0.132331        0.000000       86.115229       74.797863\n",
       "3            -0.123775        0.000000       -0.140737       -0.193338\n",
       "4            -0.132331        0.000000        0.024562        0.002944\n",
       "...                ...             ...             ...             ...\n",
       "4453829      -0.104697        1.058588        0.185267       -0.051237\n",
       "4453830       3.977394        2.705196        0.218292        0.156884\n",
       "4453831       0.746850        0.046345        0.081967        0.130096\n",
       "4453832      47.380174       37.855558        0.748254        0.236355\n",
       "4453833      -0.132331        0.000000        1.444599        1.409486\n",
       "\n",
       "[4453834 rows x 4 columns]"
      ]
     },
     "execution_count": 30,
     "metadata": {},
     "output_type": "execute_result"
    }
   ],
   "source": [
    "from sklearn.preprocessing import MinMaxScaler, StandardScaler, RobustScaler, Normalizer\n",
    "\n",
    "robust = RobustScaler()\n",
    "\n",
    "train_robust = X_train[['oldbalanceOrg','newbalanceOrig','oldbalanceDest','newbalanceDest']]\n",
    "\n",
    "X_train_scaled = robust.fit_transform(train_robust)\n",
    "\n",
    "X_train_scaled=pd.DataFrame(X_train_scaled,columns=['oldbalanceOrg','newbalanceOrig','oldbalanceDest','newbalanceDest'])\n",
    "\n",
    "X_train_scaled"
   ]
  },
  {
   "cell_type": "code",
   "execution_count": 31,
   "metadata": {
    "execution": {
     "iopub.execute_input": "2022-04-18T16:59:18.404779Z",
     "iopub.status.busy": "2022-04-18T16:59:18.404535Z",
     "iopub.status.idle": "2022-04-18T16:59:18.580035Z",
     "shell.execute_reply": "2022-04-18T16:59:18.579174Z"
    },
    "papermill": {
     "duration": 0.222606,
     "end_time": "2022-04-18T16:59:18.582013",
     "exception": false,
     "start_time": "2022-04-18T16:59:18.359407",
     "status": "completed"
    },
    "tags": []
   },
   "outputs": [
    {
     "data": {
      "text/html": [
       "<div>\n",
       "<style scoped>\n",
       "    .dataframe tbody tr th:only-of-type {\n",
       "        vertical-align: middle;\n",
       "    }\n",
       "\n",
       "    .dataframe tbody tr th {\n",
       "        vertical-align: top;\n",
       "    }\n",
       "\n",
       "    .dataframe thead th {\n",
       "        text-align: right;\n",
       "    }\n",
       "</style>\n",
       "<table border=\"1\" class=\"dataframe\">\n",
       "  <thead>\n",
       "    <tr style=\"text-align: right;\">\n",
       "      <th></th>\n",
       "      <th>oldbalanceOrg</th>\n",
       "      <th>newbalanceOrig</th>\n",
       "      <th>oldbalanceDest</th>\n",
       "      <th>newbalanceDest</th>\n",
       "      <th>step</th>\n",
       "      <th>isFlaggedFraud</th>\n",
       "      <th>type</th>\n",
       "    </tr>\n",
       "  </thead>\n",
       "  <tbody>\n",
       "    <tr>\n",
       "      <th>0</th>\n",
       "      <td>-0.132331</td>\n",
       "      <td>0.0</td>\n",
       "      <td>-0.140737</td>\n",
       "      <td>-0.193338</td>\n",
       "      <td>15</td>\n",
       "      <td>0</td>\n",
       "      <td>3</td>\n",
       "    </tr>\n",
       "    <tr>\n",
       "      <th>1</th>\n",
       "      <td>2.298136</td>\n",
       "      <td>0.0</td>\n",
       "      <td>12.561700</td>\n",
       "      <td>10.907893</td>\n",
       "      <td>256</td>\n",
       "      <td>0</td>\n",
       "      <td>1</td>\n",
       "    </tr>\n",
       "    <tr>\n",
       "      <th>2</th>\n",
       "      <td>-0.132331</td>\n",
       "      <td>0.0</td>\n",
       "      <td>86.115229</td>\n",
       "      <td>74.797863</td>\n",
       "      <td>353</td>\n",
       "      <td>0</td>\n",
       "      <td>4</td>\n",
       "    </tr>\n",
       "    <tr>\n",
       "      <th>3</th>\n",
       "      <td>-0.123775</td>\n",
       "      <td>0.0</td>\n",
       "      <td>-0.140737</td>\n",
       "      <td>-0.193338</td>\n",
       "      <td>162</td>\n",
       "      <td>0</td>\n",
       "      <td>3</td>\n",
       "    </tr>\n",
       "    <tr>\n",
       "      <th>4</th>\n",
       "      <td>-0.132331</td>\n",
       "      <td>0.0</td>\n",
       "      <td>0.024562</td>\n",
       "      <td>0.002944</td>\n",
       "      <td>353</td>\n",
       "      <td>0</td>\n",
       "      <td>1</td>\n",
       "    </tr>\n",
       "  </tbody>\n",
       "</table>\n",
       "</div>"
      ],
      "text/plain": [
       "   oldbalanceOrg  newbalanceOrig  oldbalanceDest  newbalanceDest  step  \\\n",
       "0      -0.132331             0.0       -0.140737       -0.193338    15   \n",
       "1       2.298136             0.0       12.561700       10.907893   256   \n",
       "2      -0.132331             0.0       86.115229       74.797863   353   \n",
       "3      -0.123775             0.0       -0.140737       -0.193338   162   \n",
       "4      -0.132331             0.0        0.024562        0.002944   353   \n",
       "\n",
       "   isFlaggedFraud  type  \n",
       "0               0     3  \n",
       "1               0     1  \n",
       "2               0     4  \n",
       "3               0     3  \n",
       "4               0     1  "
      ]
     },
     "execution_count": 31,
     "metadata": {},
     "output_type": "execute_result"
    }
   ],
   "source": [
    "X_train_cate=X_train[['step', 'isFlaggedFraud', 'type']]\n",
    "\n",
    "X_train_scaled.reset_index(drop = True, inplace=True)\n",
    "X_train_cate.reset_index(drop = True, inplace=True)\n",
    "\n",
    "X_train_scaled_concat = pd.concat([X_train_scaled,X_train_cate], axis = 1)\n",
    "X_train_scaled_concat.head()"
   ]
  },
  {
   "cell_type": "markdown",
   "metadata": {
    "papermill": {
     "duration": 0.043486,
     "end_time": "2022-04-18T16:59:18.669727",
     "exception": false,
     "start_time": "2022-04-18T16:59:18.626241",
     "status": "completed"
    },
    "tags": []
   },
   "source": [
    "### Transform X_test with fitted scaler"
   ]
  },
  {
   "cell_type": "code",
   "execution_count": 32,
   "metadata": {
    "execution": {
     "iopub.execute_input": "2022-04-18T16:59:18.760120Z",
     "iopub.status.busy": "2022-04-18T16:59:18.759134Z",
     "iopub.status.idle": "2022-04-18T16:59:18.844685Z",
     "shell.execute_reply": "2022-04-18T16:59:18.844119Z"
    },
    "papermill": {
     "duration": 0.13214,
     "end_time": "2022-04-18T16:59:18.846301",
     "exception": false,
     "start_time": "2022-04-18T16:59:18.714161",
     "status": "completed"
    },
    "tags": []
   },
   "outputs": [
    {
     "data": {
      "text/html": [
       "<div>\n",
       "<style scoped>\n",
       "    .dataframe tbody tr th:only-of-type {\n",
       "        vertical-align: middle;\n",
       "    }\n",
       "\n",
       "    .dataframe tbody tr th {\n",
       "        vertical-align: top;\n",
       "    }\n",
       "\n",
       "    .dataframe thead th {\n",
       "        text-align: right;\n",
       "    }\n",
       "</style>\n",
       "<table border=\"1\" class=\"dataframe\">\n",
       "  <thead>\n",
       "    <tr style=\"text-align: right;\">\n",
       "      <th></th>\n",
       "      <th>oldbalanceOrg</th>\n",
       "      <th>newbalanceOrig</th>\n",
       "      <th>oldbalanceDest</th>\n",
       "      <th>newbalanceDest</th>\n",
       "    </tr>\n",
       "  </thead>\n",
       "  <tbody>\n",
       "    <tr>\n",
       "      <th>0</th>\n",
       "      <td>-0.012726</td>\n",
       "      <td>0.683431</td>\n",
       "      <td>-0.140737</td>\n",
       "      <td>-0.193338</td>\n",
       "    </tr>\n",
       "    <tr>\n",
       "      <th>1</th>\n",
       "      <td>-0.132331</td>\n",
       "      <td>0.000000</td>\n",
       "      <td>-0.140737</td>\n",
       "      <td>-0.193338</td>\n",
       "    </tr>\n",
       "    <tr>\n",
       "      <th>2</th>\n",
       "      <td>203.790866</td>\n",
       "      <td>152.349457</td>\n",
       "      <td>0.078165</td>\n",
       "      <td>-0.088543</td>\n",
       "    </tr>\n",
       "    <tr>\n",
       "      <th>3</th>\n",
       "      <td>0.240936</td>\n",
       "      <td>0.000000</td>\n",
       "      <td>-0.140737</td>\n",
       "      <td>-0.096587</td>\n",
       "    </tr>\n",
       "    <tr>\n",
       "      <th>4</th>\n",
       "      <td>1.977686</td>\n",
       "      <td>0.000000</td>\n",
       "      <td>3.169721</td>\n",
       "      <td>4.633230</td>\n",
       "    </tr>\n",
       "  </tbody>\n",
       "</table>\n",
       "</div>"
      ],
      "text/plain": [
       "   oldbalanceOrg  newbalanceOrig  oldbalanceDest  newbalanceDest\n",
       "0      -0.012726        0.683431       -0.140737       -0.193338\n",
       "1      -0.132331        0.000000       -0.140737       -0.193338\n",
       "2     203.790866      152.349457        0.078165       -0.088543\n",
       "3       0.240936        0.000000       -0.140737       -0.096587\n",
       "4       1.977686        0.000000        3.169721        4.633230"
      ]
     },
     "execution_count": 32,
     "metadata": {},
     "output_type": "execute_result"
    }
   ],
   "source": [
    "test_robust = X_test[['oldbalanceOrg','newbalanceOrig','oldbalanceDest','newbalanceDest']]\n",
    "X_test_scaled = robust.transform(test_robust)\n",
    "X_test_scaled=pd.DataFrame(X_test_scaled,columns=['oldbalanceOrg','newbalanceOrig','oldbalanceDest','newbalanceDest'])\n",
    "X_test_scaled.head()"
   ]
  },
  {
   "cell_type": "code",
   "execution_count": 33,
   "metadata": {
    "execution": {
     "iopub.execute_input": "2022-04-18T16:59:18.939334Z",
     "iopub.status.busy": "2022-04-18T16:59:18.938573Z",
     "iopub.status.idle": "2022-04-18T16:59:19.025636Z",
     "shell.execute_reply": "2022-04-18T16:59:19.024726Z"
    },
    "papermill": {
     "duration": 0.135543,
     "end_time": "2022-04-18T16:59:19.027677",
     "exception": false,
     "start_time": "2022-04-18T16:59:18.892134",
     "status": "completed"
    },
    "tags": []
   },
   "outputs": [
    {
     "data": {
      "text/html": [
       "<div>\n",
       "<style scoped>\n",
       "    .dataframe tbody tr th:only-of-type {\n",
       "        vertical-align: middle;\n",
       "    }\n",
       "\n",
       "    .dataframe tbody tr th {\n",
       "        vertical-align: top;\n",
       "    }\n",
       "\n",
       "    .dataframe thead th {\n",
       "        text-align: right;\n",
       "    }\n",
       "</style>\n",
       "<table border=\"1\" class=\"dataframe\">\n",
       "  <thead>\n",
       "    <tr style=\"text-align: right;\">\n",
       "      <th></th>\n",
       "      <th>oldbalanceOrg</th>\n",
       "      <th>newbalanceOrig</th>\n",
       "      <th>oldbalanceDest</th>\n",
       "      <th>newbalanceDest</th>\n",
       "      <th>step</th>\n",
       "      <th>isFlaggedFraud</th>\n",
       "      <th>type</th>\n",
       "    </tr>\n",
       "  </thead>\n",
       "  <tbody>\n",
       "    <tr>\n",
       "      <th>0</th>\n",
       "      <td>-0.012726</td>\n",
       "      <td>0.683431</td>\n",
       "      <td>-0.140737</td>\n",
       "      <td>-0.193338</td>\n",
       "      <td>252</td>\n",
       "      <td>0</td>\n",
       "      <td>0</td>\n",
       "    </tr>\n",
       "    <tr>\n",
       "      <th>1</th>\n",
       "      <td>-0.132331</td>\n",
       "      <td>0.000000</td>\n",
       "      <td>-0.140737</td>\n",
       "      <td>-0.193338</td>\n",
       "      <td>167</td>\n",
       "      <td>0</td>\n",
       "      <td>3</td>\n",
       "    </tr>\n",
       "    <tr>\n",
       "      <th>2</th>\n",
       "      <td>203.790866</td>\n",
       "      <td>152.349457</td>\n",
       "      <td>0.078165</td>\n",
       "      <td>-0.088543</td>\n",
       "      <td>259</td>\n",
       "      <td>0</td>\n",
       "      <td>0</td>\n",
       "    </tr>\n",
       "    <tr>\n",
       "      <th>3</th>\n",
       "      <td>0.240936</td>\n",
       "      <td>0.000000</td>\n",
       "      <td>-0.140737</td>\n",
       "      <td>-0.096587</td>\n",
       "      <td>308</td>\n",
       "      <td>0</td>\n",
       "      <td>1</td>\n",
       "    </tr>\n",
       "    <tr>\n",
       "      <th>4</th>\n",
       "      <td>1.977686</td>\n",
       "      <td>0.000000</td>\n",
       "      <td>3.169721</td>\n",
       "      <td>4.633230</td>\n",
       "      <td>36</td>\n",
       "      <td>0</td>\n",
       "      <td>4</td>\n",
       "    </tr>\n",
       "  </tbody>\n",
       "</table>\n",
       "</div>"
      ],
      "text/plain": [
       "   oldbalanceOrg  newbalanceOrig  oldbalanceDest  newbalanceDest  step  \\\n",
       "0      -0.012726        0.683431       -0.140737       -0.193338   252   \n",
       "1      -0.132331        0.000000       -0.140737       -0.193338   167   \n",
       "2     203.790866      152.349457        0.078165       -0.088543   259   \n",
       "3       0.240936        0.000000       -0.140737       -0.096587   308   \n",
       "4       1.977686        0.000000        3.169721        4.633230    36   \n",
       "\n",
       "   isFlaggedFraud  type  \n",
       "0               0     0  \n",
       "1               0     3  \n",
       "2               0     0  \n",
       "3               0     1  \n",
       "4               0     4  "
      ]
     },
     "execution_count": 33,
     "metadata": {},
     "output_type": "execute_result"
    }
   ],
   "source": [
    "X_test_cate=X_test[['step', 'isFlaggedFraud', 'type']]\n",
    "\n",
    "X_test_scaled.reset_index(drop = True, inplace=True)\n",
    "X_test_cate.reset_index(drop = True, inplace=True)\n",
    "\n",
    "X_test_scaled_concat = pd.concat([X_test_scaled,X_test_cate], axis = 1)\n",
    "X_test_scaled_concat.head()"
   ]
  },
  {
   "cell_type": "markdown",
   "metadata": {
    "papermill": {
     "duration": 0.044338,
     "end_time": "2022-04-18T16:59:19.118112",
     "exception": false,
     "start_time": "2022-04-18T16:59:19.073774",
     "status": "completed"
    },
    "tags": []
   },
   "source": [
    "# Check for P value & VIF after SCALING"
   ]
  },
  {
   "cell_type": "code",
   "execution_count": 34,
   "metadata": {
    "execution": {
     "iopub.execute_input": "2022-04-18T16:59:19.209902Z",
     "iopub.status.busy": "2022-04-18T16:59:19.209655Z",
     "iopub.status.idle": "2022-04-18T16:59:19.406684Z",
     "shell.execute_reply": "2022-04-18T16:59:19.405858Z"
    },
    "papermill": {
     "duration": 0.245566,
     "end_time": "2022-04-18T16:59:19.408636",
     "exception": false,
     "start_time": "2022-04-18T16:59:19.163070",
     "status": "completed"
    },
    "tags": []
   },
   "outputs": [
    {
     "data": {
      "text/html": [
       "<div>\n",
       "<style scoped>\n",
       "    .dataframe tbody tr th:only-of-type {\n",
       "        vertical-align: middle;\n",
       "    }\n",
       "\n",
       "    .dataframe tbody tr th {\n",
       "        vertical-align: top;\n",
       "    }\n",
       "\n",
       "    .dataframe thead th {\n",
       "        text-align: right;\n",
       "    }\n",
       "</style>\n",
       "<table border=\"1\" class=\"dataframe\">\n",
       "  <thead>\n",
       "    <tr style=\"text-align: right;\">\n",
       "      <th></th>\n",
       "      <th>oldbalanceOrg</th>\n",
       "      <th>newbalanceOrig</th>\n",
       "      <th>oldbalanceDest</th>\n",
       "      <th>newbalanceDest</th>\n",
       "      <th>step</th>\n",
       "      <th>isFlaggedFraud</th>\n",
       "      <th>type</th>\n",
       "      <th>isFraud</th>\n",
       "    </tr>\n",
       "  </thead>\n",
       "  <tbody>\n",
       "    <tr>\n",
       "      <th>0</th>\n",
       "      <td>-0.132331</td>\n",
       "      <td>0.0</td>\n",
       "      <td>-0.140737</td>\n",
       "      <td>-0.193338</td>\n",
       "      <td>15</td>\n",
       "      <td>0</td>\n",
       "      <td>3</td>\n",
       "      <td>0</td>\n",
       "    </tr>\n",
       "    <tr>\n",
       "      <th>1</th>\n",
       "      <td>2.298136</td>\n",
       "      <td>0.0</td>\n",
       "      <td>12.561700</td>\n",
       "      <td>10.907893</td>\n",
       "      <td>256</td>\n",
       "      <td>0</td>\n",
       "      <td>1</td>\n",
       "      <td>0</td>\n",
       "    </tr>\n",
       "    <tr>\n",
       "      <th>2</th>\n",
       "      <td>-0.132331</td>\n",
       "      <td>0.0</td>\n",
       "      <td>86.115229</td>\n",
       "      <td>74.797863</td>\n",
       "      <td>353</td>\n",
       "      <td>0</td>\n",
       "      <td>4</td>\n",
       "      <td>0</td>\n",
       "    </tr>\n",
       "    <tr>\n",
       "      <th>3</th>\n",
       "      <td>-0.123775</td>\n",
       "      <td>0.0</td>\n",
       "      <td>-0.140737</td>\n",
       "      <td>-0.193338</td>\n",
       "      <td>162</td>\n",
       "      <td>0</td>\n",
       "      <td>3</td>\n",
       "      <td>0</td>\n",
       "    </tr>\n",
       "    <tr>\n",
       "      <th>4</th>\n",
       "      <td>-0.132331</td>\n",
       "      <td>0.0</td>\n",
       "      <td>0.024562</td>\n",
       "      <td>0.002944</td>\n",
       "      <td>353</td>\n",
       "      <td>0</td>\n",
       "      <td>1</td>\n",
       "      <td>0</td>\n",
       "    </tr>\n",
       "  </tbody>\n",
       "</table>\n",
       "</div>"
      ],
      "text/plain": [
       "   oldbalanceOrg  newbalanceOrig  oldbalanceDest  newbalanceDest  step  \\\n",
       "0      -0.132331             0.0       -0.140737       -0.193338    15   \n",
       "1       2.298136             0.0       12.561700       10.907893   256   \n",
       "2      -0.132331             0.0       86.115229       74.797863   353   \n",
       "3      -0.123775             0.0       -0.140737       -0.193338   162   \n",
       "4      -0.132331             0.0        0.024562        0.002944   353   \n",
       "\n",
       "   isFlaggedFraud  type  isFraud  \n",
       "0               0     3        0  \n",
       "1               0     1        0  \n",
       "2               0     4        0  \n",
       "3               0     3        0  \n",
       "4               0     1        0  "
      ]
     },
     "execution_count": 34,
     "metadata": {},
     "output_type": "execute_result"
    }
   ],
   "source": [
    "temp1=pd.DataFrame(y_train, columns=['isFraud'])\n",
    "temp1.reset_index(drop = True, inplace=True)\n",
    "\n",
    "temp2 = pd.concat([X_train_scaled_concat,temp1], axis = 1)\n",
    "temp2.head()"
   ]
  },
  {
   "cell_type": "code",
   "execution_count": 35,
   "metadata": {
    "execution": {
     "iopub.execute_input": "2022-04-18T16:59:19.500701Z",
     "iopub.status.busy": "2022-04-18T16:59:19.500467Z",
     "iopub.status.idle": "2022-04-18T16:59:23.632803Z",
     "shell.execute_reply": "2022-04-18T16:59:23.632011Z"
    },
    "papermill": {
     "duration": 4.181425,
     "end_time": "2022-04-18T16:59:23.635504",
     "exception": false,
     "start_time": "2022-04-18T16:59:19.454079",
     "status": "completed"
    },
    "tags": []
   },
   "outputs": [
    {
     "data": {
      "text/html": [
       "<table class=\"simpletable\">\n",
       "<caption>OLS Regression Results</caption>\n",
       "<tr>\n",
       "  <th>Dep. Variable:</th>         <td>isFraud</td>     <th>  R-squared (uncentered):</th>       <td>   0.147</td> \n",
       "</tr>\n",
       "<tr>\n",
       "  <th>Model:</th>                   <td>OLS</td>       <th>  Adj. R-squared (uncentered):</th>  <td>   0.147</td> \n",
       "</tr>\n",
       "<tr>\n",
       "  <th>Method:</th>             <td>Least Squares</td>  <th>  F-statistic:       </th>           <td>1.095e+05</td>\n",
       "</tr>\n",
       "<tr>\n",
       "  <th>Date:</th>             <td>Sun, 12 Jun 2022</td> <th>  Prob (F-statistic):</th>            <td>  0.00</td>  \n",
       "</tr>\n",
       "<tr>\n",
       "  <th>Time:</th>                 <td>21:35:30</td>     <th>  Log-Likelihood:    </th>          <td>8.8511e+06</td>\n",
       "</tr>\n",
       "<tr>\n",
       "  <th>No. Observations:</th>      <td>4453834</td>     <th>  AIC:               </th>          <td>-1.770e+07</td>\n",
       "</tr>\n",
       "<tr>\n",
       "  <th>Df Residuals:</th>          <td>4453827</td>     <th>  BIC:               </th>          <td>-1.770e+07</td>\n",
       "</tr>\n",
       "<tr>\n",
       "  <th>Df Model:</th>              <td>     7</td>      <th>                     </th>               <td> </td>    \n",
       "</tr>\n",
       "<tr>\n",
       "  <th>Covariance Type:</th>      <td>nonrobust</td>    <th>                     </th>               <td> </td>    \n",
       "</tr>\n",
       "</table>\n",
       "<table class=\"simpletable\">\n",
       "<tr>\n",
       "         <td></td>           <th>coef</th>     <th>std err</th>      <th>t</th>      <th>P>|t|</th>  <th>[0.025</th>    <th>0.975]</th>  \n",
       "</tr>\n",
       "<tr>\n",
       "  <th>oldbalanceOrg</th>  <td>    0.0105</td> <td> 1.22e-05</td> <td>  858.477</td> <td> 0.000</td> <td>    0.010</td> <td>    0.011</td>\n",
       "</tr>\n",
       "<tr>\n",
       "  <th>newbalanceOrig</th> <td>   -0.0140</td> <td> 1.63e-05</td> <td> -857.894</td> <td> 0.000</td> <td>   -0.014</td> <td>   -0.014</td>\n",
       "</tr>\n",
       "<tr>\n",
       "  <th>oldbalanceDest</th> <td>    0.0012</td> <td> 2.08e-05</td> <td>   59.828</td> <td> 0.000</td> <td>    0.001</td> <td>    0.001</td>\n",
       "</tr>\n",
       "<tr>\n",
       "  <th>newbalanceDest</th> <td>   -0.0013</td> <td> 2.27e-05</td> <td>  -57.424</td> <td> 0.000</td> <td>   -0.001</td> <td>   -0.001</td>\n",
       "</tr>\n",
       "<tr>\n",
       "  <th>step</th>           <td> 1.946e-05</td> <td> 8.32e-08</td> <td>  233.956</td> <td> 0.000</td> <td> 1.93e-05</td> <td> 1.96e-05</td>\n",
       "</tr>\n",
       "<tr>\n",
       "  <th>isFlaggedFraud</th> <td>    0.9870</td> <td>    0.009</td> <td>  111.344</td> <td> 0.000</td> <td>    0.970</td> <td>    1.004</td>\n",
       "</tr>\n",
       "<tr>\n",
       "  <th>type</th>           <td>   -0.0012</td> <td> 1.03e-05</td> <td> -113.853</td> <td> 0.000</td> <td>   -0.001</td> <td>   -0.001</td>\n",
       "</tr>\n",
       "</table>\n",
       "<table class=\"simpletable\">\n",
       "<tr>\n",
       "  <th>Omnibus:</th>       <td>10803955.924</td> <th>  Durbin-Watson:     </th>    <td>   1.998</td>    \n",
       "</tr>\n",
       "<tr>\n",
       "  <th>Prob(Omnibus):</th>    <td> 0.000</td>    <th>  Jarque-Bera (JB):  </th> <td>99738150508.655</td>\n",
       "</tr>\n",
       "<tr>\n",
       "  <th>Skew:</th>             <td>25.843</td>    <th>  Prob(JB):          </th>    <td>    0.00</td>    \n",
       "</tr>\n",
       "<tr>\n",
       "  <th>Kurtosis:</th>         <td>734.286</td>   <th>  Cond. No.          </th>    <td>1.59e+05</td>    \n",
       "</tr>\n",
       "</table><br/><br/>Notes:<br/>[1] R² is computed without centering (uncentered) since the model does not contain a constant.<br/>[2] Standard Errors assume that the covariance matrix of the errors is correctly specified.<br/>[3] The condition number is large, 1.59e+05. This might indicate that there are<br/>strong multicollinearity or other numerical problems."
      ],
      "text/plain": [
       "<class 'statsmodels.iolib.summary.Summary'>\n",
       "\"\"\"\n",
       "                                 OLS Regression Results                                \n",
       "=======================================================================================\n",
       "Dep. Variable:                isFraud   R-squared (uncentered):                   0.147\n",
       "Model:                            OLS   Adj. R-squared (uncentered):              0.147\n",
       "Method:                 Least Squares   F-statistic:                          1.095e+05\n",
       "Date:                Sun, 12 Jun 2022   Prob (F-statistic):                        0.00\n",
       "Time:                        21:35:30   Log-Likelihood:                      8.8511e+06\n",
       "No. Observations:             4453834   AIC:                                 -1.770e+07\n",
       "Df Residuals:                 4453827   BIC:                                 -1.770e+07\n",
       "Df Model:                           7                                                  \n",
       "Covariance Type:            nonrobust                                                  \n",
       "==================================================================================\n",
       "                     coef    std err          t      P>|t|      [0.025      0.975]\n",
       "----------------------------------------------------------------------------------\n",
       "oldbalanceOrg      0.0105   1.22e-05    858.477      0.000       0.010       0.011\n",
       "newbalanceOrig    -0.0140   1.63e-05   -857.894      0.000      -0.014      -0.014\n",
       "oldbalanceDest     0.0012   2.08e-05     59.828      0.000       0.001       0.001\n",
       "newbalanceDest    -0.0013   2.27e-05    -57.424      0.000      -0.001      -0.001\n",
       "step            1.946e-05   8.32e-08    233.956      0.000    1.93e-05    1.96e-05\n",
       "isFlaggedFraud     0.9870      0.009    111.344      0.000       0.970       1.004\n",
       "type              -0.0012   1.03e-05   -113.853      0.000      -0.001      -0.001\n",
       "==============================================================================\n",
       "Omnibus:                 10803955.924   Durbin-Watson:                   1.998\n",
       "Prob(Omnibus):                  0.000   Jarque-Bera (JB):      99738150508.655\n",
       "Skew:                          25.843   Prob(JB):                         0.00\n",
       "Kurtosis:                     734.286   Cond. No.                     1.59e+05\n",
       "==============================================================================\n",
       "\n",
       "Notes:\n",
       "[1] R² is computed without centering (uncentered) since the model does not contain a constant.\n",
       "[2] Standard Errors assume that the covariance matrix of the errors is correctly specified.\n",
       "[3] The condition number is large, 1.59e+05. This might indicate that there are\n",
       "strong multicollinearity or other numerical problems.\n",
       "\"\"\""
      ]
     },
     "execution_count": 35,
     "metadata": {},
     "output_type": "execute_result"
    }
   ],
   "source": [
    "smodel=sm.OLS(temp2['isFraud'], temp2[['oldbalanceOrg', 'newbalanceOrig', 'oldbalanceDest', 'newbalanceDest',\n",
    "       'step', 'isFlaggedFraud', 'type']])\n",
    "\n",
    "\n",
    "res=smodel.fit()\n",
    "res.summary()"
   ]
  },
  {
   "cell_type": "code",
   "execution_count": 36,
   "metadata": {
    "execution": {
     "iopub.execute_input": "2022-04-18T16:59:23.776410Z",
     "iopub.status.busy": "2022-04-18T16:59:23.775791Z",
     "iopub.status.idle": "2022-04-18T16:59:43.561198Z",
     "shell.execute_reply": "2022-04-18T16:59:43.560125Z"
    },
    "papermill": {
     "duration": 19.838191,
     "end_time": "2022-04-18T16:59:43.564505",
     "exception": false,
     "start_time": "2022-04-18T16:59:23.726314",
     "status": "completed"
    },
    "tags": []
   },
   "outputs": [
    {
     "data": {
      "text/html": [
       "<div>\n",
       "<style scoped>\n",
       "    .dataframe tbody tr th:only-of-type {\n",
       "        vertical-align: middle;\n",
       "    }\n",
       "\n",
       "    .dataframe tbody tr th {\n",
       "        vertical-align: top;\n",
       "    }\n",
       "\n",
       "    .dataframe thead th {\n",
       "        text-align: right;\n",
       "    }\n",
       "</style>\n",
       "<table border=\"1\" class=\"dataframe\">\n",
       "  <thead>\n",
       "    <tr style=\"text-align: right;\">\n",
       "      <th></th>\n",
       "      <th>Column name</th>\n",
       "      <th>VIF</th>\n",
       "    </tr>\n",
       "  </thead>\n",
       "  <tbody>\n",
       "    <tr>\n",
       "      <th>1</th>\n",
       "      <td>newbalanceOrig</td>\n",
       "      <td>479.820096</td>\n",
       "    </tr>\n",
       "    <tr>\n",
       "      <th>0</th>\n",
       "      <td>oldbalanceOrg</td>\n",
       "      <td>475.911512</td>\n",
       "    </tr>\n",
       "    <tr>\n",
       "      <th>2</th>\n",
       "      <td>oldbalanceDest</td>\n",
       "      <td>24.962709</td>\n",
       "    </tr>\n",
       "    <tr>\n",
       "      <th>3</th>\n",
       "      <td>newbalanceDest</td>\n",
       "      <td>24.743092</td>\n",
       "    </tr>\n",
       "    <tr>\n",
       "      <th>4</th>\n",
       "      <td>step</td>\n",
       "      <td>2.225257</td>\n",
       "    </tr>\n",
       "    <tr>\n",
       "      <th>6</th>\n",
       "      <td>type</td>\n",
       "      <td>2.035932</td>\n",
       "    </tr>\n",
       "    <tr>\n",
       "      <th>5</th>\n",
       "      <td>isFlaggedFraud</td>\n",
       "      <td>1.000037</td>\n",
       "    </tr>\n",
       "  </tbody>\n",
       "</table>\n",
       "</div>"
      ],
      "text/plain": [
       "      Column name         VIF\n",
       "1  newbalanceOrig  479.820096\n",
       "0   oldbalanceOrg  475.911512\n",
       "2  oldbalanceDest   24.962709\n",
       "3  newbalanceDest   24.743092\n",
       "4            step    2.225257\n",
       "6            type    2.035932\n",
       "5  isFlaggedFraud    1.000037"
      ]
     },
     "execution_count": 36,
     "metadata": {},
     "output_type": "execute_result"
    }
   ],
   "source": [
    "pd.DataFrame({'Column name': column, 'VIF': variance_inflation_factor(smodel.exog, i)} \n",
    "             for i, column in enumerate(smodel.exog_names)\n",
    "             if column != 'Intercept').sort_values(by='VIF', ascending=False)"
   ]
  },
  {
   "cell_type": "code",
   "execution_count": 37,
   "metadata": {
    "execution": {
     "iopub.execute_input": "2022-04-18T16:59:43.713116Z",
     "iopub.status.busy": "2022-04-18T16:59:43.712842Z",
     "iopub.status.idle": "2022-04-18T17:00:18.037827Z",
     "shell.execute_reply": "2022-04-18T17:00:18.037103Z"
    },
    "papermill": {
     "duration": 34.438969,
     "end_time": "2022-04-18T17:00:18.103327",
     "exception": false,
     "start_time": "2022-04-18T16:59:43.664358",
     "status": "completed"
    },
    "tags": []
   },
   "outputs": [
    {
     "name": "stderr",
     "output_type": "stream",
     "text": [
      "C:\\Users\\Karim\\Anaconda3\\lib\\site-packages\\sklearn\\tree\\tree.py:163: DeprecationWarning: `np.int` is a deprecated alias for the builtin `int`. To silence this warning, use `int` by itself. Doing this will not modify any behavior and is safe. When replacing `np.int`, you may wish to use e.g. `np.int64` or `np.int32` to specify the precision. If you wish to review your current use, check the release note link for additional information.\n",
      "Deprecated in NumPy 1.20; for more details and guidance: https://numpy.org/devdocs/release/1.20.0-notes.html#deprecations\n",
      "  y_encoded = np.zeros(y.shape, dtype=np.int)\n"
     ]
    },
    {
     "name": "stdout",
     "output_type": "stream",
     "text": [
      "Accuracy_score:  99.9464581152628\n"
     ]
    }
   ],
   "source": [
    "dtc = DecisionTreeClassifier(random_state=808)\n",
    "\n",
    "model = dtc.fit(X_train_scaled_concat, y_train)\n",
    "pred = model.predict(X_test_scaled_concat)\n",
    "\n",
    "\n",
    "print ('Accuracy_score: ', metrics.accuracy_score(y_test, pred)*100)"
   ]
  },
  {
   "cell_type": "markdown",
   "metadata": {
    "papermill": {
     "duration": 0.049315,
     "end_time": "2022-04-18T17:00:18.204688",
     "exception": false,
     "start_time": "2022-04-18T17:00:18.155373",
     "status": "completed"
    },
    "tags": []
   },
   "source": [
    "# Summary for result\n",
    "**Scaling didn't make accuracy better**: Even though I used Robust scaler you can see that there's still outliers after that. It's because the original data have too big outliers and this caused scaler's \n",
    "incompetence at classification step.\n",
    "    \n",
    "**But it's not totally meaningless**: As you can see VIF of balance related column had dropped after scaling(about 1/2)\n",
    "\n",
    "**Some extra results that I found**: It is easy to figure out (newbalanceOrig & oldbalanceOrg) and (newbalanceDest & oldbalanceDest) have relationship. So I checked VIF by dropping single column from each couples. And VIF had dropped rapidly after this job. But still accuracy didn't revised when using these columns.\n",
    "\n",
    "**Maybe we can drop outliers for better performance at classification step. You can check my work for this summary below.**\n"
   ]
  },
  {
   "cell_type": "code",
   "execution_count": 38,
   "metadata": {
    "execution": {
     "iopub.execute_input": "2022-04-18T17:00:18.308761Z",
     "iopub.status.busy": "2022-04-18T17:00:18.307519Z",
     "iopub.status.idle": "2022-04-18T17:00:20.872406Z",
     "shell.execute_reply": "2022-04-18T17:00:20.871379Z"
    },
    "papermill": {
     "duration": 2.620288,
     "end_time": "2022-04-18T17:00:20.874528",
     "exception": false,
     "start_time": "2022-04-18T17:00:18.254240",
     "status": "completed"
    },
    "tags": []
   },
   "outputs": [
    {
     "data": {
      "text/html": [
       "<div>\n",
       "<style scoped>\n",
       "    .dataframe tbody tr th:only-of-type {\n",
       "        vertical-align: middle;\n",
       "    }\n",
       "\n",
       "    .dataframe tbody tr th {\n",
       "        vertical-align: top;\n",
       "    }\n",
       "\n",
       "    .dataframe thead th {\n",
       "        text-align: right;\n",
       "    }\n",
       "</style>\n",
       "<table border=\"1\" class=\"dataframe\">\n",
       "  <thead>\n",
       "    <tr style=\"text-align: right;\">\n",
       "      <th></th>\n",
       "      <th>oldbalanceOrg</th>\n",
       "      <th>newbalanceOrig</th>\n",
       "      <th>oldbalanceDest</th>\n",
       "      <th>newbalanceDest</th>\n",
       "      <th>step</th>\n",
       "      <th>isFlaggedFraud</th>\n",
       "      <th>type</th>\n",
       "    </tr>\n",
       "  </thead>\n",
       "  <tbody>\n",
       "    <tr>\n",
       "      <th>count</th>\n",
       "      <td>4.453834e+06</td>\n",
       "      <td>4.453834e+06</td>\n",
       "      <td>4.453834e+06</td>\n",
       "      <td>4.453834e+06</td>\n",
       "      <td>4.453834e+06</td>\n",
       "      <td>4.453834e+06</td>\n",
       "      <td>4.453834e+06</td>\n",
       "    </tr>\n",
       "    <tr>\n",
       "      <th>mean</th>\n",
       "      <td>7.648406e+00</td>\n",
       "      <td>5.936674e+00</td>\n",
       "      <td>1.026092e+00</td>\n",
       "      <td>9.082344e-01</td>\n",
       "      <td>2.432962e+02</td>\n",
       "      <td>3.143359e-06</td>\n",
       "      <td>1.714040e+00</td>\n",
       "    </tr>\n",
       "    <tr>\n",
       "      <th>std</th>\n",
       "      <td>2.695453e+01</td>\n",
       "      <td>2.030330e+01</td>\n",
       "      <td>3.625949e+00</td>\n",
       "      <td>3.322215e+00</td>\n",
       "      <td>1.423589e+02</td>\n",
       "      <td>1.772950e-03</td>\n",
       "      <td>1.350117e+00</td>\n",
       "    </tr>\n",
       "    <tr>\n",
       "      <th>min</th>\n",
       "      <td>-1.323307e-01</td>\n",
       "      <td>0.000000e+00</td>\n",
       "      <td>-1.407375e-01</td>\n",
       "      <td>-1.933383e-01</td>\n",
       "      <td>1.000000e+00</td>\n",
       "      <td>0.000000e+00</td>\n",
       "      <td>0.000000e+00</td>\n",
       "    </tr>\n",
       "    <tr>\n",
       "      <th>25%</th>\n",
       "      <td>-1.323307e-01</td>\n",
       "      <td>0.000000e+00</td>\n",
       "      <td>-1.407375e-01</td>\n",
       "      <td>-1.933383e-01</td>\n",
       "      <td>1.550000e+02</td>\n",
       "      <td>0.000000e+00</td>\n",
       "      <td>1.000000e+00</td>\n",
       "    </tr>\n",
       "    <tr>\n",
       "      <th>50%</th>\n",
       "      <td>0.000000e+00</td>\n",
       "      <td>0.000000e+00</td>\n",
       "      <td>-1.542278e-17</td>\n",
       "      <td>0.000000e+00</td>\n",
       "      <td>2.390000e+02</td>\n",
       "      <td>0.000000e+00</td>\n",
       "      <td>1.000000e+00</td>\n",
       "    </tr>\n",
       "    <tr>\n",
       "      <th>75%</th>\n",
       "      <td>8.676693e-01</td>\n",
       "      <td>1.000000e+00</td>\n",
       "      <td>8.592625e-01</td>\n",
       "      <td>8.066617e-01</td>\n",
       "      <td>3.340000e+02</td>\n",
       "      <td>0.000000e+00</td>\n",
       "      <td>3.000000e+00</td>\n",
       "    </tr>\n",
       "    <tr>\n",
       "      <th>max</th>\n",
       "      <td>5.346041e+02</td>\n",
       "      <td>3.284448e+02</td>\n",
       "      <td>3.771807e+02</td>\n",
       "      <td>3.200295e+02</td>\n",
       "      <td>7.430000e+02</td>\n",
       "      <td>1.000000e+00</td>\n",
       "      <td>4.000000e+00</td>\n",
       "    </tr>\n",
       "  </tbody>\n",
       "</table>\n",
       "</div>"
      ],
      "text/plain": [
       "       oldbalanceOrg  newbalanceOrig  oldbalanceDest  newbalanceDest  \\\n",
       "count   4.453834e+06    4.453834e+06    4.453834e+06    4.453834e+06   \n",
       "mean    7.648406e+00    5.936674e+00    1.026092e+00    9.082344e-01   \n",
       "std     2.695453e+01    2.030330e+01    3.625949e+00    3.322215e+00   \n",
       "min    -1.323307e-01    0.000000e+00   -1.407375e-01   -1.933383e-01   \n",
       "25%    -1.323307e-01    0.000000e+00   -1.407375e-01   -1.933383e-01   \n",
       "50%     0.000000e+00    0.000000e+00   -1.542278e-17    0.000000e+00   \n",
       "75%     8.676693e-01    1.000000e+00    8.592625e-01    8.066617e-01   \n",
       "max     5.346041e+02    3.284448e+02    3.771807e+02    3.200295e+02   \n",
       "\n",
       "               step  isFlaggedFraud          type  \n",
       "count  4.453834e+06    4.453834e+06  4.453834e+06  \n",
       "mean   2.432962e+02    3.143359e-06  1.714040e+00  \n",
       "std    1.423589e+02    1.772950e-03  1.350117e+00  \n",
       "min    1.000000e+00    0.000000e+00  0.000000e+00  \n",
       "25%    1.550000e+02    0.000000e+00  1.000000e+00  \n",
       "50%    2.390000e+02    0.000000e+00  1.000000e+00  \n",
       "75%    3.340000e+02    0.000000e+00  3.000000e+00  \n",
       "max    7.430000e+02    1.000000e+00  4.000000e+00  "
      ]
     },
     "execution_count": 38,
     "metadata": {},
     "output_type": "execute_result"
    }
   ],
   "source": [
    "X_train_scaled_concat.describe()"
   ]
  },
  {
   "cell_type": "code",
   "execution_count": 39,
   "metadata": {
    "execution": {
     "iopub.execute_input": "2022-04-18T17:00:20.973821Z",
     "iopub.status.busy": "2022-04-18T17:00:20.973522Z",
     "iopub.status.idle": "2022-04-18T17:00:24.365870Z",
     "shell.execute_reply": "2022-04-18T17:00:24.364942Z"
    },
    "papermill": {
     "duration": 3.445181,
     "end_time": "2022-04-18T17:00:24.369089",
     "exception": false,
     "start_time": "2022-04-18T17:00:20.923908",
     "status": "completed"
    },
    "tags": []
   },
   "outputs": [
    {
     "data": {
      "text/html": [
       "<table class=\"simpletable\">\n",
       "<caption>OLS Regression Results</caption>\n",
       "<tr>\n",
       "  <th>Dep. Variable:</th>         <td>isFraud</td>     <th>  R-squared (uncentered):</th>       <td>   0.005</td> \n",
       "</tr>\n",
       "<tr>\n",
       "  <th>Model:</th>                   <td>OLS</td>       <th>  Adj. R-squared (uncentered):</th>  <td>   0.005</td> \n",
       "</tr>\n",
       "<tr>\n",
       "  <th>Method:</th>             <td>Least Squares</td>  <th>  F-statistic:       </th>           <td>   4466.</td> \n",
       "</tr>\n",
       "<tr>\n",
       "  <th>Date:</th>             <td>Sun, 12 Jun 2022</td> <th>  Prob (F-statistic):</th>            <td>  0.00</td>  \n",
       "</tr>\n",
       "<tr>\n",
       "  <th>Time:</th>                 <td>21:37:04</td>     <th>  Log-Likelihood:    </th>          <td>8.5087e+06</td>\n",
       "</tr>\n",
       "<tr>\n",
       "  <th>No. Observations:</th>      <td>4453834</td>     <th>  AIC:               </th>          <td>-1.702e+07</td>\n",
       "</tr>\n",
       "<tr>\n",
       "  <th>Df Residuals:</th>          <td>4453829</td>     <th>  BIC:               </th>          <td>-1.702e+07</td>\n",
       "</tr>\n",
       "<tr>\n",
       "  <th>Df Model:</th>              <td>     5</td>      <th>                     </th>               <td> </td>    \n",
       "</tr>\n",
       "<tr>\n",
       "  <th>Covariance Type:</th>      <td>nonrobust</td>    <th>                     </th>               <td> </td>    \n",
       "</tr>\n",
       "</table>\n",
       "<table class=\"simpletable\">\n",
       "<tr>\n",
       "         <td></td>           <th>coef</th>     <th>std err</th>      <th>t</th>      <th>P>|t|</th>  <th>[0.025</th>    <th>0.975]</th>  \n",
       "</tr>\n",
       "<tr>\n",
       "  <th>oldbalanceOrg</th>  <td> 1.658e-05</td> <td> 6.38e-07</td> <td>   26.004</td> <td> 0.000</td> <td> 1.53e-05</td> <td> 1.78e-05</td>\n",
       "</tr>\n",
       "<tr>\n",
       "  <th>oldbalanceDest</th> <td>-8.235e-05</td> <td> 4.67e-06</td> <td>  -17.650</td> <td> 0.000</td> <td>-9.15e-05</td> <td>-7.32e-05</td>\n",
       "</tr>\n",
       "<tr>\n",
       "  <th>step</th>           <td> 4.121e-06</td> <td> 8.74e-08</td> <td>   47.129</td> <td> 0.000</td> <td> 3.95e-06</td> <td> 4.29e-06</td>\n",
       "</tr>\n",
       "<tr>\n",
       "  <th>isFlaggedFraud</th> <td>    0.9953</td> <td>    0.010</td> <td>  103.973</td> <td> 0.000</td> <td>    0.977</td> <td>    1.014</td>\n",
       "</tr>\n",
       "<tr>\n",
       "  <th>type</th>           <td>    0.0003</td> <td> 1.08e-05</td> <td>   30.454</td> <td> 0.000</td> <td>    0.000</td> <td>    0.000</td>\n",
       "</tr>\n",
       "</table>\n",
       "<table class=\"simpletable\">\n",
       "<tr>\n",
       "  <th>Omnibus:</th>       <td>11118696.342</td> <th>  Durbin-Watson:     </th>     <td>   2.000</td>    \n",
       "</tr>\n",
       "<tr>\n",
       "  <th>Prob(Omnibus):</th>    <td> 0.000</td>    <th>  Jarque-Bera (JB):  </th> <td>111095864388.041</td>\n",
       "</tr>\n",
       "<tr>\n",
       "  <th>Skew:</th>             <td>27.808</td>    <th>  Prob(JB):          </th>     <td>    0.00</td>    \n",
       "</tr>\n",
       "<tr>\n",
       "  <th>Kurtosis:</th>         <td>774.725</td>   <th>  Cond. No.          </th>     <td>1.59e+05</td>    \n",
       "</tr>\n",
       "</table><br/><br/>Notes:<br/>[1] R² is computed without centering (uncentered) since the model does not contain a constant.<br/>[2] Standard Errors assume that the covariance matrix of the errors is correctly specified.<br/>[3] The condition number is large, 1.59e+05. This might indicate that there are<br/>strong multicollinearity or other numerical problems."
      ],
      "text/plain": [
       "<class 'statsmodels.iolib.summary.Summary'>\n",
       "\"\"\"\n",
       "                                 OLS Regression Results                                \n",
       "=======================================================================================\n",
       "Dep. Variable:                isFraud   R-squared (uncentered):                   0.005\n",
       "Model:                            OLS   Adj. R-squared (uncentered):              0.005\n",
       "Method:                 Least Squares   F-statistic:                              4466.\n",
       "Date:                Sun, 12 Jun 2022   Prob (F-statistic):                        0.00\n",
       "Time:                        21:37:04   Log-Likelihood:                      8.5087e+06\n",
       "No. Observations:             4453834   AIC:                                 -1.702e+07\n",
       "Df Residuals:                 4453829   BIC:                                 -1.702e+07\n",
       "Df Model:                           5                                                  \n",
       "Covariance Type:            nonrobust                                                  \n",
       "==================================================================================\n",
       "                     coef    std err          t      P>|t|      [0.025      0.975]\n",
       "----------------------------------------------------------------------------------\n",
       "oldbalanceOrg   1.658e-05   6.38e-07     26.004      0.000    1.53e-05    1.78e-05\n",
       "oldbalanceDest -8.235e-05   4.67e-06    -17.650      0.000   -9.15e-05   -7.32e-05\n",
       "step            4.121e-06   8.74e-08     47.129      0.000    3.95e-06    4.29e-06\n",
       "isFlaggedFraud     0.9953      0.010    103.973      0.000       0.977       1.014\n",
       "type               0.0003   1.08e-05     30.454      0.000       0.000       0.000\n",
       "==============================================================================\n",
       "Omnibus:                 11118696.342   Durbin-Watson:                   2.000\n",
       "Prob(Omnibus):                  0.000   Jarque-Bera (JB):     111095864388.041\n",
       "Skew:                          27.808   Prob(JB):                         0.00\n",
       "Kurtosis:                     774.725   Cond. No.                     1.59e+05\n",
       "==============================================================================\n",
       "\n",
       "Notes:\n",
       "[1] R² is computed without centering (uncentered) since the model does not contain a constant.\n",
       "[2] Standard Errors assume that the covariance matrix of the errors is correctly specified.\n",
       "[3] The condition number is large, 1.59e+05. This might indicate that there are\n",
       "strong multicollinearity or other numerical problems.\n",
       "\"\"\""
      ]
     },
     "execution_count": 39,
     "metadata": {},
     "output_type": "execute_result"
    }
   ],
   "source": [
    "smodel=sm.OLS(temp2['isFraud'], temp2[['oldbalanceOrg','oldbalanceDest', 'step', 'isFlaggedFraud', 'type']])\n",
    "res=smodel.fit()\n",
    "res.summary()"
   ]
  },
  {
   "cell_type": "code",
   "execution_count": 40,
   "metadata": {
    "execution": {
     "iopub.execute_input": "2022-04-18T17:00:24.519447Z",
     "iopub.status.busy": "2022-04-18T17:00:24.518824Z",
     "iopub.status.idle": "2022-04-18T17:00:33.792767Z",
     "shell.execute_reply": "2022-04-18T17:00:33.792001Z"
    },
    "papermill": {
     "duration": 9.327086,
     "end_time": "2022-04-18T17:00:33.795367",
     "exception": false,
     "start_time": "2022-04-18T17:00:24.468281",
     "status": "completed"
    },
    "tags": []
   },
   "outputs": [
    {
     "data": {
      "text/html": [
       "<div>\n",
       "<style scoped>\n",
       "    .dataframe tbody tr th:only-of-type {\n",
       "        vertical-align: middle;\n",
       "    }\n",
       "\n",
       "    .dataframe tbody tr th {\n",
       "        vertical-align: top;\n",
       "    }\n",
       "\n",
       "    .dataframe thead th {\n",
       "        text-align: right;\n",
       "    }\n",
       "</style>\n",
       "<table border=\"1\" class=\"dataframe\">\n",
       "  <thead>\n",
       "    <tr style=\"text-align: right;\">\n",
       "      <th></th>\n",
       "      <th>Column name</th>\n",
       "      <th>VIF</th>\n",
       "    </tr>\n",
       "  </thead>\n",
       "  <tbody>\n",
       "    <tr>\n",
       "      <th>2</th>\n",
       "      <td>step</td>\n",
       "      <td>2.108964</td>\n",
       "    </tr>\n",
       "    <tr>\n",
       "      <th>4</th>\n",
       "      <td>type</td>\n",
       "      <td>1.940438</td>\n",
       "    </tr>\n",
       "    <tr>\n",
       "      <th>0</th>\n",
       "      <td>oldbalanceOrg</td>\n",
       "      <td>1.108566</td>\n",
       "    </tr>\n",
       "    <tr>\n",
       "      <th>1</th>\n",
       "      <td>oldbalanceDest</td>\n",
       "      <td>1.073200</td>\n",
       "    </tr>\n",
       "    <tr>\n",
       "      <th>3</th>\n",
       "      <td>isFlaggedFraud</td>\n",
       "      <td>1.000036</td>\n",
       "    </tr>\n",
       "  </tbody>\n",
       "</table>\n",
       "</div>"
      ],
      "text/plain": [
       "      Column name       VIF\n",
       "2            step  2.108964\n",
       "4            type  1.940438\n",
       "0   oldbalanceOrg  1.108566\n",
       "1  oldbalanceDest  1.073200\n",
       "3  isFlaggedFraud  1.000036"
      ]
     },
     "execution_count": 40,
     "metadata": {},
     "output_type": "execute_result"
    }
   ],
   "source": [
    "pd.DataFrame({'Column name': column, 'VIF': variance_inflation_factor(smodel.exog, i)} \n",
    "             for i, column in enumerate(smodel.exog_names)\n",
    "             if column != 'Intercept').sort_values(by='VIF', ascending=False)"
   ]
  },
  {
   "cell_type": "code",
   "execution_count": 41,
   "metadata": {
    "execution": {
     "iopub.execute_input": "2022-04-18T17:00:33.943158Z",
     "iopub.status.busy": "2022-04-18T17:00:33.942796Z",
     "iopub.status.idle": "2022-04-18T17:00:55.188767Z",
     "shell.execute_reply": "2022-04-18T17:00:55.187890Z"
    },
    "papermill": {
     "duration": 21.30267,
     "end_time": "2022-04-18T17:00:55.191212",
     "exception": false,
     "start_time": "2022-04-18T17:00:33.888542",
     "status": "completed"
    },
    "tags": []
   },
   "outputs": [
    {
     "name": "stderr",
     "output_type": "stream",
     "text": [
      "C:\\Users\\Karim\\Anaconda3\\lib\\site-packages\\sklearn\\tree\\tree.py:163: DeprecationWarning: `np.int` is a deprecated alias for the builtin `int`. To silence this warning, use `int` by itself. Doing this will not modify any behavior and is safe. When replacing `np.int`, you may wish to use e.g. `np.int64` or `np.int32` to specify the precision. If you wish to review your current use, check the release note link for additional information.\n",
      "Deprecated in NumPy 1.20; for more details and guidance: https://numpy.org/devdocs/release/1.20.0-notes.html#deprecations\n",
      "  y_encoded = np.zeros(y.shape, dtype=np.int)\n"
     ]
    },
    {
     "name": "stdout",
     "output_type": "stream",
     "text": [
      "Accuracy_score:  99.88542455780795\n"
     ]
    }
   ],
   "source": [
    "dtc = DecisionTreeClassifier(random_state=808)\n",
    "\n",
    "model = dtc.fit(X_train_scaled_concat[['oldbalanceOrg','oldbalanceDest', 'step', 'isFlaggedFraud', 'type']], y_train)\n",
    "pred = model.predict(X_test_scaled_concat[['oldbalanceOrg','oldbalanceDest', 'step', 'isFlaggedFraud', 'type']])\n",
    "\n",
    "\n",
    "print ('Accuracy_score: ', metrics.accuracy_score(y_test, pred)*100)"
   ]
  },
  {
   "cell_type": "code",
   "execution_count": 42,
   "metadata": {},
   "outputs": [
    {
     "data": {
      "text/plain": [
       "<AxesSubplot:>"
      ]
     },
     "execution_count": 42,
     "metadata": {},
     "output_type": "execute_result"
    },
    {
     "data": {
      "image/png": "[encoded data removed]",
      "text/plain": [
       "<Figure size 1296x720 with 2 Axes>"
      ]
     },
     "metadata": {
      "needs_background": "light"
     },
     "output_type": "display_data"
    }
   ],
   "source": [
    "import matplotlib.pyplot as plt \n",
    "import seaborn as sns\n",
    "plt.figure(figsize = (18,10))\n",
    "sns.heatmap(df.corr(), annot=True)"
   ]
  },
  {
   "cell_type": "code",
   "execution_count": 52,
   "metadata": {},
   "outputs": [
    {
     "name": "stderr",
     "output_type": "stream",
     "text": [
      "C:\\Users\\Karim\\Anaconda3\\lib\\site-packages\\sklearn\\model_selection\\_split.py:670: DeprecationWarning: `np.int` is a deprecated alias for the builtin `int`. To silence this warning, use `int` by itself. Doing this will not modify any behavior and is safe. When replacing `np.int`, you may wish to use e.g. `np.int64` or `np.int32` to specify the precision. If you wish to review your current use, check the release note link for additional information.\n",
      "Deprecated in NumPy 1.20; for more details and guidance: https://numpy.org/devdocs/release/1.20.0-notes.html#deprecations\n",
      "  test_folds = np.zeros(n_samples, dtype=np.int)\n",
      "C:\\Users\\Karim\\Anaconda3\\lib\\site-packages\\sklearn\\model_selection\\_split.py:442: DeprecationWarning: `np.int` is a deprecated alias for the builtin `int`. To silence this warning, use `int` by itself. Doing this will not modify any behavior and is safe. When replacing `np.int`, you may wish to use e.g. `np.int64` or `np.int32` to specify the precision. If you wish to review your current use, check the release note link for additional information.\n",
      "Deprecated in NumPy 1.20; for more details and guidance: https://numpy.org/devdocs/release/1.20.0-notes.html#deprecations\n",
      "  fold_sizes = np.full(n_splits, n_samples // n_splits, dtype=np.int)\n",
      "C:\\Users\\Karim\\Anaconda3\\lib\\site-packages\\sklearn\\model_selection\\_split.py:102: DeprecationWarning: `np.bool` is a deprecated alias for the builtin `bool`. To silence this warning, use `bool` by itself. Doing this will not modify any behavior and is safe. If you specifically wanted the numpy scalar type, use `np.bool_` here.\n",
      "Deprecated in NumPy 1.20; for more details and guidance: https://numpy.org/devdocs/release/1.20.0-notes.html#deprecations\n",
      "  test_mask = np.zeros(_num_samples(X), dtype=np.bool)\n",
      "C:\\Users\\Karim\\Anaconda3\\lib\\site-packages\\sklearn\\model_selection\\_split.py:442: DeprecationWarning: `np.int` is a deprecated alias for the builtin `int`. To silence this warning, use `int` by itself. Doing this will not modify any behavior and is safe. When replacing `np.int`, you may wish to use e.g. `np.int64` or `np.int32` to specify the precision. If you wish to review your current use, check the release note link for additional information.\n",
      "Deprecated in NumPy 1.20; for more details and guidance: https://numpy.org/devdocs/release/1.20.0-notes.html#deprecations\n",
      "  fold_sizes = np.full(n_splits, n_samples // n_splits, dtype=np.int)\n",
      "C:\\Users\\Karim\\Anaconda3\\lib\\site-packages\\sklearn\\model_selection\\_split.py:102: DeprecationWarning: `np.bool` is a deprecated alias for the builtin `bool`. To silence this warning, use `bool` by itself. Doing this will not modify any behavior and is safe. If you specifically wanted the numpy scalar type, use `np.bool_` here.\n",
      "Deprecated in NumPy 1.20; for more details and guidance: https://numpy.org/devdocs/release/1.20.0-notes.html#deprecations\n",
      "  test_mask = np.zeros(_num_samples(X), dtype=np.bool)\n",
      "C:\\Users\\Karim\\Anaconda3\\lib\\site-packages\\sklearn\\model_selection\\_split.py:102: DeprecationWarning: `np.bool` is a deprecated alias for the builtin `bool`. To silence this warning, use `bool` by itself. Doing this will not modify any behavior and is safe. If you specifically wanted the numpy scalar type, use `np.bool_` here.\n",
      "Deprecated in NumPy 1.20; for more details and guidance: https://numpy.org/devdocs/release/1.20.0-notes.html#deprecations\n",
      "  test_mask = np.zeros(_num_samples(X), dtype=np.bool)\n",
      "C:\\Users\\Karim\\Anaconda3\\lib\\site-packages\\sklearn\\model_selection\\_split.py:102: DeprecationWarning: `np.bool` is a deprecated alias for the builtin `bool`. To silence this warning, use `bool` by itself. Doing this will not modify any behavior and is safe. If you specifically wanted the numpy scalar type, use `np.bool_` here.\n",
      "Deprecated in NumPy 1.20; for more details and guidance: https://numpy.org/devdocs/release/1.20.0-notes.html#deprecations\n",
      "  test_mask = np.zeros(_num_samples(X), dtype=np.bool)\n",
      "C:\\Users\\Karim\\Anaconda3\\lib\\site-packages\\sklearn\\model_selection\\_split.py:102: DeprecationWarning: `np.bool` is a deprecated alias for the builtin `bool`. To silence this warning, use `bool` by itself. Doing this will not modify any behavior and is safe. If you specifically wanted the numpy scalar type, use `np.bool_` here.\n",
      "Deprecated in NumPy 1.20; for more details and guidance: https://numpy.org/devdocs/release/1.20.0-notes.html#deprecations\n",
      "  test_mask = np.zeros(_num_samples(X), dtype=np.bool)\n",
      "C:\\Users\\Karim\\Anaconda3\\lib\\site-packages\\sklearn\\model_selection\\_split.py:102: DeprecationWarning: `np.bool` is a deprecated alias for the builtin `bool`. To silence this warning, use `bool` by itself. Doing this will not modify any behavior and is safe. If you specifically wanted the numpy scalar type, use `np.bool_` here.\n",
      "Deprecated in NumPy 1.20; for more details and guidance: https://numpy.org/devdocs/release/1.20.0-notes.html#deprecations\n",
      "  test_mask = np.zeros(_num_samples(X), dtype=np.bool)\n",
      "C:\\Users\\Karim\\Anaconda3\\lib\\site-packages\\sklearn\\model_selection\\_split.py:102: DeprecationWarning: `np.bool` is a deprecated alias for the builtin `bool`. To silence this warning, use `bool` by itself. Doing this will not modify any behavior and is safe. If you specifically wanted the numpy scalar type, use `np.bool_` here.\n",
      "Deprecated in NumPy 1.20; for more details and guidance: https://numpy.org/devdocs/release/1.20.0-notes.html#deprecations\n",
      "  test_mask = np.zeros(_num_samples(X), dtype=np.bool)\n",
      "C:\\Users\\Karim\\Anaconda3\\lib\\site-packages\\sklearn\\model_selection\\_split.py:102: DeprecationWarning: `np.bool` is a deprecated alias for the builtin `bool`. To silence this warning, use `bool` by itself. Doing this will not modify any behavior and is safe. If you specifically wanted the numpy scalar type, use `np.bool_` here.\n",
      "Deprecated in NumPy 1.20; for more details and guidance: https://numpy.org/devdocs/release/1.20.0-notes.html#deprecations\n",
      "  test_mask = np.zeros(_num_samples(X), dtype=np.bool)\n",
      "C:\\Users\\Karim\\Anaconda3\\lib\\site-packages\\sklearn\\model_selection\\_split.py:102: DeprecationWarning: `np.bool` is a deprecated alias for the builtin `bool`. To silence this warning, use `bool` by itself. Doing this will not modify any behavior and is safe. If you specifically wanted the numpy scalar type, use `np.bool_` here.\n",
      "Deprecated in NumPy 1.20; for more details and guidance: https://numpy.org/devdocs/release/1.20.0-notes.html#deprecations\n",
      "  test_mask = np.zeros(_num_samples(X), dtype=np.bool)\n",
      "C:\\Users\\Karim\\Anaconda3\\lib\\site-packages\\sklearn\\model_selection\\_split.py:102: DeprecationWarning: `np.bool` is a deprecated alias for the builtin `bool`. To silence this warning, use `bool` by itself. Doing this will not modify any behavior and is safe. If you specifically wanted the numpy scalar type, use `np.bool_` here.\n",
      "Deprecated in NumPy 1.20; for more details and guidance: https://numpy.org/devdocs/release/1.20.0-notes.html#deprecations\n",
      "  test_mask = np.zeros(_num_samples(X), dtype=np.bool)\n",
      "C:\\Users\\Karim\\Anaconda3\\lib\\site-packages\\sklearn\\model_selection\\_split.py:102: DeprecationWarning: `np.bool` is a deprecated alias for the builtin `bool`. To silence this warning, use `bool` by itself. Doing this will not modify any behavior and is safe. If you specifically wanted the numpy scalar type, use `np.bool_` here.\n",
      "Deprecated in NumPy 1.20; for more details and guidance: https://numpy.org/devdocs/release/1.20.0-notes.html#deprecations\n",
      "  test_mask = np.zeros(_num_samples(X), dtype=np.bool)\n",
      "C:\\Users\\Karim\\Anaconda3\\lib\\site-packages\\sklearn\\model_selection\\_split.py:102: DeprecationWarning: `np.bool` is a deprecated alias for the builtin `bool`. To silence this warning, use `bool` by itself. Doing this will not modify any behavior and is safe. If you specifically wanted the numpy scalar type, use `np.bool_` here.\n",
      "Deprecated in NumPy 1.20; for more details and guidance: https://numpy.org/devdocs/release/1.20.0-notes.html#deprecations\n",
      "  test_mask = np.zeros(_num_samples(X), dtype=np.bool)\n",
      "C:\\Users\\Karim\\Anaconda3\\lib\\site-packages\\sklearn\\model_selection\\_split.py:102: DeprecationWarning: `np.bool` is a deprecated alias for the builtin `bool`. To silence this warning, use `bool` by itself. Doing this will not modify any behavior and is safe. If you specifically wanted the numpy scalar type, use `np.bool_` here.\n",
      "Deprecated in NumPy 1.20; for more details and guidance: https://numpy.org/devdocs/release/1.20.0-notes.html#deprecations\n",
      "  test_mask = np.zeros(_num_samples(X), dtype=np.bool)\n",
      "C:\\Users\\Karim\\Anaconda3\\lib\\site-packages\\sklearn\\model_selection\\_split.py:102: DeprecationWarning: `np.bool` is a deprecated alias for the builtin `bool`. To silence this warning, use `bool` by itself. Doing this will not modify any behavior and is safe. If you specifically wanted the numpy scalar type, use `np.bool_` here.\n",
      "Deprecated in NumPy 1.20; for more details and guidance: https://numpy.org/devdocs/release/1.20.0-notes.html#deprecations\n",
      "  test_mask = np.zeros(_num_samples(X), dtype=np.bool)\n",
      "C:\\Users\\Karim\\Anaconda3\\lib\\site-packages\\sklearn\\model_selection\\_split.py:102: DeprecationWarning: `np.bool` is a deprecated alias for the builtin `bool`. To silence this warning, use `bool` by itself. Doing this will not modify any behavior and is safe. If you specifically wanted the numpy scalar type, use `np.bool_` here.\n",
      "Deprecated in NumPy 1.20; for more details and guidance: https://numpy.org/devdocs/release/1.20.0-notes.html#deprecations\n",
      "  test_mask = np.zeros(_num_samples(X), dtype=np.bool)\n",
      "C:\\Users\\Karim\\Anaconda3\\lib\\site-packages\\sklearn\\model_selection\\_split.py:102: DeprecationWarning: `np.bool` is a deprecated alias for the builtin `bool`. To silence this warning, use `bool` by itself. Doing this will not modify any behavior and is safe. If you specifically wanted the numpy scalar type, use `np.bool_` here.\n",
      "Deprecated in NumPy 1.20; for more details and guidance: https://numpy.org/devdocs/release/1.20.0-notes.html#deprecations\n",
      "  test_mask = np.zeros(_num_samples(X), dtype=np.bool)\n"
     ]
    },
    {
     "name": "stderr",
     "output_type": "stream",
     "text": [
      "C:\\Users\\Karim\\Anaconda3\\lib\\site-packages\\sklearn\\model_selection\\_split.py:102: DeprecationWarning: `np.bool` is a deprecated alias for the builtin `bool`. To silence this warning, use `bool` by itself. Doing this will not modify any behavior and is safe. If you specifically wanted the numpy scalar type, use `np.bool_` here.\n",
      "Deprecated in NumPy 1.20; for more details and guidance: https://numpy.org/devdocs/release/1.20.0-notes.html#deprecations\n",
      "  test_mask = np.zeros(_num_samples(X), dtype=np.bool)\n",
      "C:\\Users\\Karim\\Anaconda3\\lib\\site-packages\\sklearn\\model_selection\\_split.py:102: DeprecationWarning: `np.bool` is a deprecated alias for the builtin `bool`. To silence this warning, use `bool` by itself. Doing this will not modify any behavior and is safe. If you specifically wanted the numpy scalar type, use `np.bool_` here.\n",
      "Deprecated in NumPy 1.20; for more details and guidance: https://numpy.org/devdocs/release/1.20.0-notes.html#deprecations\n",
      "  test_mask = np.zeros(_num_samples(X), dtype=np.bool)\n",
      "C:\\Users\\Karim\\Anaconda3\\lib\\site-packages\\sklearn\\model_selection\\_split.py:102: DeprecationWarning: `np.bool` is a deprecated alias for the builtin `bool`. To silence this warning, use `bool` by itself. Doing this will not modify any behavior and is safe. If you specifically wanted the numpy scalar type, use `np.bool_` here.\n",
      "Deprecated in NumPy 1.20; for more details and guidance: https://numpy.org/devdocs/release/1.20.0-notes.html#deprecations\n",
      "  test_mask = np.zeros(_num_samples(X), dtype=np.bool)\n",
      "C:\\Users\\Karim\\Anaconda3\\lib\\site-packages\\sklearn\\model_selection\\_split.py:102: DeprecationWarning: `np.bool` is a deprecated alias for the builtin `bool`. To silence this warning, use `bool` by itself. Doing this will not modify any behavior and is safe. If you specifically wanted the numpy scalar type, use `np.bool_` here.\n",
      "Deprecated in NumPy 1.20; for more details and guidance: https://numpy.org/devdocs/release/1.20.0-notes.html#deprecations\n",
      "  test_mask = np.zeros(_num_samples(X), dtype=np.bool)\n",
      "C:\\Users\\Karim\\Anaconda3\\lib\\site-packages\\sklearn\\linear_model\\logistic.py:432: FutureWarning: Default solver will be changed to 'lbfgs' in 0.22. Specify a solver to silence this warning.\n",
      "  FutureWarning)\n",
      "C:\\Users\\Karim\\Anaconda3\\lib\\site-packages\\sklearn\\linear_model\\base.py:291: DeprecationWarning: `np.int` is a deprecated alias for the builtin `int`. To silence this warning, use `int` by itself. Doing this will not modify any behavior and is safe. When replacing `np.int`, you may wish to use e.g. `np.int64` or `np.int32` to specify the precision. If you wish to review your current use, check the release note link for additional information.\n",
      "Deprecated in NumPy 1.20; for more details and guidance: https://numpy.org/devdocs/release/1.20.0-notes.html#deprecations\n",
      "  indices = (scores > 0).astype(np.int)\n",
      "C:\\Users\\Karim\\Anaconda3\\lib\\site-packages\\sklearn\\linear_model\\logistic.py:432: FutureWarning: Default solver will be changed to 'lbfgs' in 0.22. Specify a solver to silence this warning.\n",
      "  FutureWarning)\n",
      "C:\\Users\\Karim\\Anaconda3\\lib\\site-packages\\sklearn\\linear_model\\base.py:291: DeprecationWarning: `np.int` is a deprecated alias for the builtin `int`. To silence this warning, use `int` by itself. Doing this will not modify any behavior and is safe. When replacing `np.int`, you may wish to use e.g. `np.int64` or `np.int32` to specify the precision. If you wish to review your current use, check the release note link for additional information.\n",
      "Deprecated in NumPy 1.20; for more details and guidance: https://numpy.org/devdocs/release/1.20.0-notes.html#deprecations\n",
      "  indices = (scores > 0).astype(np.int)\n",
      "C:\\Users\\Karim\\Anaconda3\\lib\\site-packages\\sklearn\\linear_model\\logistic.py:432: FutureWarning: Default solver will be changed to 'lbfgs' in 0.22. Specify a solver to silence this warning.\n",
      "  FutureWarning)\n",
      "C:\\Users\\Karim\\Anaconda3\\lib\\site-packages\\sklearn\\linear_model\\base.py:291: DeprecationWarning: `np.int` is a deprecated alias for the builtin `int`. To silence this warning, use `int` by itself. Doing this will not modify any behavior and is safe. When replacing `np.int`, you may wish to use e.g. `np.int64` or `np.int32` to specify the precision. If you wish to review your current use, check the release note link for additional information.\n",
      "Deprecated in NumPy 1.20; for more details and guidance: https://numpy.org/devdocs/release/1.20.0-notes.html#deprecations\n",
      "  indices = (scores > 0).astype(np.int)\n",
      "C:\\Users\\Karim\\Anaconda3\\lib\\site-packages\\sklearn\\linear_model\\logistic.py:432: FutureWarning: Default solver will be changed to 'lbfgs' in 0.22. Specify a solver to silence this warning.\n",
      "  FutureWarning)\n",
      "C:\\Users\\Karim\\Anaconda3\\lib\\site-packages\\sklearn\\linear_model\\base.py:291: DeprecationWarning: `np.int` is a deprecated alias for the builtin `int`. To silence this warning, use `int` by itself. Doing this will not modify any behavior and is safe. When replacing `np.int`, you may wish to use e.g. `np.int64` or `np.int32` to specify the precision. If you wish to review your current use, check the release note link for additional information.\n",
      "Deprecated in NumPy 1.20; for more details and guidance: https://numpy.org/devdocs/release/1.20.0-notes.html#deprecations\n",
      "  indices = (scores > 0).astype(np.int)\n",
      "C:\\Users\\Karim\\Anaconda3\\lib\\site-packages\\sklearn\\linear_model\\logistic.py:432: FutureWarning: Default solver will be changed to 'lbfgs' in 0.22. Specify a solver to silence this warning.\n",
      "  FutureWarning)\n",
      "C:\\Users\\Karim\\Anaconda3\\lib\\site-packages\\sklearn\\linear_model\\base.py:291: DeprecationWarning: `np.int` is a deprecated alias for the builtin `int`. To silence this warning, use `int` by itself. Doing this will not modify any behavior and is safe. When replacing `np.int`, you may wish to use e.g. `np.int64` or `np.int32` to specify the precision. If you wish to review your current use, check the release note link for additional information.\n",
      "Deprecated in NumPy 1.20; for more details and guidance: https://numpy.org/devdocs/release/1.20.0-notes.html#deprecations\n",
      "  indices = (scores > 0).astype(np.int)\n",
      "C:\\Users\\Karim\\Anaconda3\\lib\\site-packages\\sklearn\\linear_model\\logistic.py:432: FutureWarning: Default solver will be changed to 'lbfgs' in 0.22. Specify a solver to silence this warning.\n",
      "  FutureWarning)\n",
      "C:\\Users\\Karim\\Anaconda3\\lib\\site-packages\\sklearn\\linear_model\\base.py:291: DeprecationWarning: `np.int` is a deprecated alias for the builtin `int`. To silence this warning, use `int` by itself. Doing this will not modify any behavior and is safe. When replacing `np.int`, you may wish to use e.g. `np.int64` or `np.int32` to specify the precision. If you wish to review your current use, check the release note link for additional information.\n",
      "Deprecated in NumPy 1.20; for more details and guidance: https://numpy.org/devdocs/release/1.20.0-notes.html#deprecations\n",
      "  indices = (scores > 0).astype(np.int)\n",
      "C:\\Users\\Karim\\Anaconda3\\lib\\site-packages\\sklearn\\linear_model\\logistic.py:432: FutureWarning: Default solver will be changed to 'lbfgs' in 0.22. Specify a solver to silence this warning.\n",
      "  FutureWarning)\n",
      "C:\\Users\\Karim\\Anaconda3\\lib\\site-packages\\sklearn\\linear_model\\base.py:291: DeprecationWarning: `np.int` is a deprecated alias for the builtin `int`. To silence this warning, use `int` by itself. Doing this will not modify any behavior and is safe. When replacing `np.int`, you may wish to use e.g. `np.int64` or `np.int32` to specify the precision. If you wish to review your current use, check the release note link for additional information.\n",
      "Deprecated in NumPy 1.20; for more details and guidance: https://numpy.org/devdocs/release/1.20.0-notes.html#deprecations\n",
      "  indices = (scores > 0).astype(np.int)\n",
      "C:\\Users\\Karim\\Anaconda3\\lib\\site-packages\\sklearn\\linear_model\\logistic.py:432: FutureWarning: Default solver will be changed to 'lbfgs' in 0.22. Specify a solver to silence this warning.\n",
      "  FutureWarning)\n",
      "C:\\Users\\Karim\\Anaconda3\\lib\\site-packages\\sklearn\\linear_model\\base.py:291: DeprecationWarning: `np.int` is a deprecated alias for the builtin `int`. To silence this warning, use `int` by itself. Doing this will not modify any behavior and is safe. When replacing `np.int`, you may wish to use e.g. `np.int64` or `np.int32` to specify the precision. If you wish to review your current use, check the release note link for additional information.\n",
      "Deprecated in NumPy 1.20; for more details and guidance: https://numpy.org/devdocs/release/1.20.0-notes.html#deprecations\n",
      "  indices = (scores > 0).astype(np.int)\n"
     ]
    },
    {
     "name": "stderr",
     "output_type": "stream",
     "text": [
      "C:\\Users\\Karim\\Anaconda3\\lib\\site-packages\\sklearn\\linear_model\\logistic.py:432: FutureWarning: Default solver will be changed to 'lbfgs' in 0.22. Specify a solver to silence this warning.\n",
      "  FutureWarning)\n",
      "C:\\Users\\Karim\\Anaconda3\\lib\\site-packages\\sklearn\\linear_model\\base.py:291: DeprecationWarning: `np.int` is a deprecated alias for the builtin `int`. To silence this warning, use `int` by itself. Doing this will not modify any behavior and is safe. When replacing `np.int`, you may wish to use e.g. `np.int64` or `np.int32` to specify the precision. If you wish to review your current use, check the release note link for additional information.\n",
      "Deprecated in NumPy 1.20; for more details and guidance: https://numpy.org/devdocs/release/1.20.0-notes.html#deprecations\n",
      "  indices = (scores > 0).astype(np.int)\n",
      "C:\\Users\\Karim\\Anaconda3\\lib\\site-packages\\sklearn\\linear_model\\logistic.py:432: FutureWarning: Default solver will be changed to 'lbfgs' in 0.22. Specify a solver to silence this warning.\n",
      "  FutureWarning)\n"
     ]
    },
    {
     "name": "stdout",
     "output_type": "stream",
     "text": [
      "List of possible accuracy: [0.9988212421592958, 0.9988102404194492, 0.9988070970652073, 0.9988133819087106, 0.9988180969474839, 0.9988243836658484, 0.9988102385495283, 0.998818095089908, 0.9988039499513565, 0.998811808361663]\n",
      "\n",
      "Maximum Accuracy That can be obtained from this model is: 99.88243836658484 %\n",
      "\n",
      "Minimum Accuracy: 99.88039499513565 %\n",
      "\n",
      "Overall Accuracy: 99.88138534118451 %\n",
      "\n",
      "Standard Deviation is: 6.461264963750108e-06\n"
     ]
    },
    {
     "name": "stderr",
     "output_type": "stream",
     "text": [
      "C:\\Users\\Karim\\Anaconda3\\lib\\site-packages\\sklearn\\linear_model\\base.py:291: DeprecationWarning: `np.int` is a deprecated alias for the builtin `int`. To silence this warning, use `int` by itself. Doing this will not modify any behavior and is safe. When replacing `np.int`, you may wish to use e.g. `np.int64` or `np.int32` to specify the precision. If you wish to review your current use, check the release note link for additional information.\n",
      "Deprecated in NumPy 1.20; for more details and guidance: https://numpy.org/devdocs/release/1.20.0-notes.html#deprecations\n",
      "  indices = (scores > 0).astype(np.int)\n"
     ]
    }
   ],
   "source": [
    "from statistics import mean, stdev\n",
    "from sklearn import preprocessing\n",
    "from sklearn.model_selection import StratifiedKFold\n",
    "from sklearn import linear_model\n",
    "from sklearn import datasets\n",
    "# Feature Scaling for input features.\n",
    "scaler = preprocessing.MinMaxScaler()\n",
    "x_scaled = scaler.fit_transform(X)\n",
    "  \n",
    "# Create  classifier object.\n",
    "lr = linear_model.LogisticRegression()\n",
    "  \n",
    "# Create StratifiedKFold object.\n",
    "skf = StratifiedKFold(n_splits=10, shuffle=True, random_state=1)\n",
    "lst_accu_stratified = []\n",
    "  \n",
    "for train_index, test_index in skf.split(X, y):\n",
    "    x_train_fold, x_test_fold = x_scaled[train_index], x_scaled[test_index]\n",
    "    y_train_fold, y_test_fold = y[train_index], y[test_index]\n",
    "    lr.fit(x_train_fold, y_train_fold)\n",
    "    lst_accu_stratified.append(lr.score(x_test_fold, y_test_fold))\n",
    "\n",
    "    \n",
    "# Print the output.\n",
    "print('List of possible accuracy:', lst_accu_stratified)\n",
    "print('\\nMaximum Accuracy That can be obtained from this model is:',\n",
    "      max(lst_accu_stratified)*100, '%')\n",
    "print('\\nMinimum Accuracy:',\n",
    "      min(lst_accu_stratified)*100, '%')\n",
    "print('\\nOverall Accuracy:',\n",
    "      mean(lst_accu_stratified)*100, '%')\n",
    "print('\\nStandard Deviation is:', stdev(lst_accu_stratified))"
   ]
  },
  {
   "cell_type": "code",
   "execution_count": null,
   "metadata": {},
   "outputs": [],
   "source": []
  }
 ],
 "metadata": {
  "kernelspec": {
   "display_name": "Python 3",
   "language": "python",
   "name": "python3"
  },
  "language_info": {
   "codemirror_mode": {
    "name": "ipython",
    "version": 3
   },
   "file_extension": ".py",
   "mimetype": "text/x-python",
   "name": "python",
   "nbconvert_exporter": "python",
   "pygments_lexer": "ipython3",
   "version": "3.7.3"
  },
  "papermill": {
   "default_parameters": {},
   "duration": 243.585305,
   "end_time": "2022-04-18T17:00:56.766763",
   "environment_variables": {},
   "exception": null,
   "input_path": "__notebook__.ipynb",
   "output_path": "__notebook__.ipynb",
   "parameters": {},
   "start_time": "2022-04-18T16:56:53.181458",
   "version": "2.3.4"
  }
 },
 "nbformat": 4,
 "nbformat_minor": 5
}
